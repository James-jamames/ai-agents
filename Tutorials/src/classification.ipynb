{
 "cells": [
  {
   "cell_type": "code",
   "execution_count": 1,
   "id": "fba15c72",
   "metadata": {},
   "outputs": [
    {
     "data": {
      "text/plain": [
       "True"
      ]
     },
     "execution_count": 1,
     "metadata": {},
     "output_type": "execute_result"
    }
   ],
   "source": [
    "from dotenv import load_dotenv\n",
    "\n",
    "load_dotenv()"
   ]
  },
  {
   "cell_type": "code",
   "execution_count": 2,
   "id": "61823d5f",
   "metadata": {},
   "outputs": [],
   "source": [
    "from langchain.chat_models import init_chat_model\n",
    "\n",
    "llm = init_chat_model(\"gemini-2.5-flash\", model_provider=\"google_genai\")"
   ]
  },
  {
   "cell_type": "code",
   "execution_count": 3,
   "id": "eb462cc8",
   "metadata": {},
   "outputs": [],
   "source": [
    "from langchain_core.prompts import ChatPromptTemplate\n",
    "from pydantic import BaseModel, Field\n",
    "\n",
    "tagging_prompt = ChatPromptTemplate.from_template(\"\"\"\n",
    "Extract the desired information from the following passage.\n",
    "                                                  \n",
    "Only extract the properties mentioned in the 'Classification' function.\n",
    "                                                  \n",
    "Passage: {passage}\n",
    "\"\"\")"
   ]
  },
  {
   "cell_type": "code",
   "execution_count": 10,
   "id": "8b7394cc",
   "metadata": {},
   "outputs": [],
   "source": [
    "class Classification(BaseModel):\n",
    "    sentiment: str = Field(description=\"The sentiment of the passage.\", enum=[\"Happy\", \"Mad\", \"Neutral\"])\n",
    "    agressiveness: int = Field(description=\"The level of agressiveness in the passage, from 0 to 10.\")\n",
    "    language: str = Field(description=\"The language the passage is written in.\")"
   ]
  },
  {
   "cell_type": "code",
   "execution_count": 11,
   "id": "d4979214",
   "metadata": {},
   "outputs": [],
   "source": [
    "structured_llm = llm.with_structured_output(Classification)"
   ]
  },
  {
   "cell_type": "code",
   "execution_count": 12,
   "id": "a28928b2",
   "metadata": {},
   "outputs": [],
   "source": [
    "passage = \"Eu não aguento mais sua insistencia. Sabe... que se dane seu comportamento imaturo.\"\n",
    "\n",
    "prompt = tagging_prompt.invoke({\"passage\": passage})"
   ]
  },
  {
   "cell_type": "code",
   "execution_count": 13,
   "id": "281bdb2a",
   "metadata": {},
   "outputs": [],
   "source": [
    "response = structured_llm.invoke(prompt)"
   ]
  },
  {
   "cell_type": "code",
   "execution_count": 14,
   "id": "083e3875",
   "metadata": {},
   "outputs": [
    {
     "data": {
      "text/plain": [
       "Classification(sentiment='Mad', agressiveness=9, language='Portuguese')"
      ]
     },
     "execution_count": 14,
     "metadata": {},
     "output_type": "execute_result"
    }
   ],
   "source": [
    "response"
   ]
  }
 ],
 "metadata": {
  "kernelspec": {
   "display_name": "venv",
   "language": "python",
   "name": "python3"
  },
  "language_info": {
   "codemirror_mode": {
    "name": "ipython",
    "version": 3
   },
   "file_extension": ".py",
   "mimetype": "text/x-python",
   "name": "python",
   "nbconvert_exporter": "python",
   "pygments_lexer": "ipython3",
   "version": "3.10.18"
  }
 },
 "nbformat": 4,
 "nbformat_minor": 5
}
