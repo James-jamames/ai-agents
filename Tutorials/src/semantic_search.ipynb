{
 "cells": [
  {
   "cell_type": "code",
   "execution_count": 15,
   "id": "83b9c9ca",
   "metadata": {},
   "outputs": [
    {
     "data": {
      "text/plain": [
       "True"
      ]
     },
     "execution_count": 15,
     "metadata": {},
     "output_type": "execute_result"
    }
   ],
   "source": [
    "from dotenv import load_dotenv\n",
    "\n",
    "load_dotenv(\"../.env\")"
   ]
  },
  {
   "cell_type": "markdown",
   "id": "400c708f",
   "metadata": {},
   "source": [
    "## Documents and Document Loaders"
   ]
  },
  {
   "cell_type": "code",
   "execution_count": null,
   "id": "443e9b34",
   "metadata": {},
   "outputs": [],
   "source": [
    "from langchain_core.documents import Document\n",
    "\n",
    "documents = [\n",
    "    Document(\n",
    "        page_content=\"Dogs are great companions, known for their loyalty and friendliness.\",\n",
    "        metadata={\"source\": \"mammal-pets-doc\"},\n",
    "    ),\n",
    "    Document(\n",
    "        page_content=\"Cats are independent pets that often enjoy their own space.\",\n",
    "        metadata={\"source\": \"mammal-pets-doc\"},\n",
    "    ),\n",
    "]"
   ]
  },
  {
   "cell_type": "markdown",
   "id": "6b7d0117",
   "metadata": {},
   "source": [
    "## Loading documents"
   ]
  },
  {
   "cell_type": "code",
   "execution_count": 11,
   "id": "b3a6763a",
   "metadata": {},
   "outputs": [
    {
     "name": "stdout",
     "output_type": "stream",
     "text": [
      "2\n"
     ]
    }
   ],
   "source": [
    "from langchain_community.document_loaders import PyPDFLoader\n",
    "\n",
    "file_path = \"C:/Users/tiago/OneDrive/Documentos/Github/ai-agents/Tutorials/data/readme.pdf\"\n",
    "loader = PyPDFLoader(file_path)\n",
    "\n",
    "docs = loader.load()\n",
    "\n",
    "print(len(docs))"
   ]
  },
  {
   "cell_type": "code",
   "execution_count": 12,
   "id": "aa015279",
   "metadata": {},
   "outputs": [
    {
     "name": "stdout",
     "output_type": "stream",
     "text": [
      "readme.md 2024-04-04\n",
      "1 / 2\n",
      "Simple Flask CRUD API\n",
      "This project is a simple CRUD (Create, Read, Update, Delete) API built with Flask. It demonstrates basic\n",
      "operations to manage items in an in-memory lis\n",
      "\n",
      "{'producer': 'Skia/PDF m80', 'creator': 'Chromium', 'creationdate': '2024-04-04T07:49:17+00:00', 'moddate': '2024-04-04T07:49:17+00:00', 'source': 'C:/Users/tiago/OneDrive/Documentos/Github/ai-agents/Tutorials/data/readme.pdf', 'total_pages': 2, 'page': 0, 'page_label': '1'}\n"
     ]
    }
   ],
   "source": [
    "print(f\"{docs[0].page_content[:200]}\\n\")\n",
    "print(docs[0].metadata)"
   ]
  },
  {
   "cell_type": "markdown",
   "id": "b698b662",
   "metadata": {},
   "source": [
    "## Splitting"
   ]
  },
  {
   "cell_type": "code",
   "execution_count": 13,
   "id": "ae619f2e",
   "metadata": {},
   "outputs": [
    {
     "data": {
      "text/plain": [
       "3"
      ]
     },
     "execution_count": 13,
     "metadata": {},
     "output_type": "execute_result"
    }
   ],
   "source": [
    "from langchain_text_splitters import RecursiveCharacterTextSplitter\n",
    "\n",
    "text_splitter = RecursiveCharacterTextSplitter(\n",
    "    chunk_size=1000, chunk_overlap=200, add_start_index=True\n",
    ")\n",
    "\n",
    "all_splits = text_splitter.split_documents(docs)\n",
    "\n",
    "len(all_splits)"
   ]
  },
  {
   "cell_type": "markdown",
   "id": "5bc4cab3",
   "metadata": {},
   "source": [
    "## Embeddings"
   ]
  },
  {
   "cell_type": "code",
   "execution_count": null,
   "id": "be8dfebd",
   "metadata": {},
   "outputs": [],
   "source": [
    "from langchain_google_genai import GoogleGenerativeAIEmbeddings\n",
    "\n",
    "embeddings = GoogleGenerativeAIEmbeddings(model=\"models/gemini-embedding-exp-03-07\")\n",
    "\n",
    "vector = embeddings.embed_query(\"hello, world!\")"
   ]
  },
  {
   "cell_type": "code",
   "execution_count": 17,
   "id": "ce36489c",
   "metadata": {},
   "outputs": [
    {
     "name": "stdout",
     "output_type": "stream",
     "text": [
      "Generated vectors of length 3072\n",
      "\n",
      "[-0.006182866171002388, 0.00182988157030195, 0.025529654696583748, -0.0706188976764679, 0.0103186946362257, 0.008643293753266335, 0.00036104366881772876, -0.008506260812282562, -0.0002575563848949969, 0.01603693701326847]\n"
     ]
    }
   ],
   "source": [
    "vector_1 = embeddings.embed_query(all_splits[0].page_content)\n",
    "vector_2 = embeddings.embed_query(all_splits[1].page_content)\n",
    "\n",
    "assert len(vector_1) == len(vector_2)\n",
    "print(f\"Generated vectors of length {len(vector_1)}\\n\")\n",
    "print(vector_1[:10])"
   ]
  },
  {
   "cell_type": "markdown",
   "id": "1b8ee3bf",
   "metadata": {},
   "source": [
    "## Vector stores"
   ]
  },
  {
   "cell_type": "markdown",
   "id": "3778f4a4",
   "metadata": {},
   "source": [
    "É possível armazenar em memória ou bancos de dados bancos de dados vetorizados."
   ]
  },
  {
   "cell_type": "code",
   "execution_count": 18,
   "id": "338321f7",
   "metadata": {},
   "outputs": [],
   "source": [
    "from langchain_core.vectorstores import InMemoryVectorStore\n",
    "\n",
    "vector_store = InMemoryVectorStore(embeddings)"
   ]
  },
  {
   "cell_type": "code",
   "execution_count": 19,
   "id": "d43c4fd4",
   "metadata": {},
   "outputs": [],
   "source": [
    "ids = vector_store.add_documents(documents=all_splits)"
   ]
  },
  {
   "cell_type": "markdown",
   "id": "3f090016",
   "metadata": {},
   "source": [
    "## Usage"
   ]
  },
  {
   "cell_type": "markdown",
   "id": "b6603f19",
   "metadata": {},
   "source": [
    "Retornando documentos baseado na similaridade com uma query de texto."
   ]
  },
  {
   "cell_type": "code",
   "execution_count": 20,
   "id": "9e401e3d",
   "metadata": {},
   "outputs": [
    {
     "name": "stdout",
     "output_type": "stream",
     "text": [
      "page_content='readme.md 2024-04-04\n",
      "2 / 2\n",
      "Retrieving All Items\n",
      "To retrieve all items, send a GET request to /items:\n",
      "curl http://127.0.0.1:5000/items \n",
      "Retrieving a Single Item\n",
      "To retrieve a single item by its ID, send a GET request to /items/<item_id>:\n",
      "curl http://127.0.0.1:5000/items/0 \n",
      "Updating an Item\n",
      "To update an existing item by its ID, send a PUT request to /items/<item_id> with a JSON body:\n",
      "curl -X PUT http://127.0.0.1:5000/items/0 -H \"Content-Type: \n",
      "application/json\" -d \"{\\\"name\\\":\\\"Updated Item\\\",\\\"description\\\":\\\"Updated \n",
      "description.\\\"}\"\n",
      "Deleting an Item\n",
      "To delete an item by its ID, send a DELETE request to /items/<item_id>:\n",
      "curl -X DELETE http://127.0.0.1:5000/items/0 \n",
      "Contributing\n",
      "Contributions to this project are welcome. Please fork the repository and submit a pull request with your\n",
      "improvements.\n",
      "License\n",
      "This project is licensed under the MIT License - see the LICENSE file for details.' metadata={'producer': 'Skia/PDF m80', 'creator': 'Chromium', 'creationdate': '2024-04-04T07:49:17+00:00', 'moddate': '2024-04-04T07:49:17+00:00', 'source': 'C:/Users/tiago/OneDrive/Documentos/Github/ai-agents/Tutorials/data/readme.pdf', 'total_pages': 2, 'page': 1, 'page_label': '2', 'start_index': 0}\n"
     ]
    }
   ],
   "source": [
    "results = vector_store.similarity_search(\n",
    "    \"How to retrieve an item?\"\n",
    ")\n",
    "\n",
    "print(results[0])"
   ]
  },
  {
   "cell_type": "markdown",
   "id": "d2d8e08c",
   "metadata": {},
   "source": [
    "Query assincrona"
   ]
  },
  {
   "cell_type": "code",
   "execution_count": null,
   "id": "08675e65",
   "metadata": {},
   "outputs": [
    {
     "name": "stdout",
     "output_type": "stream",
     "text": [
      "page_content='readme.md 2024-04-04\n",
      "2 / 2\n",
      "Retrieving All Items\n",
      "To retrieve all items, send a GET request to /items:\n",
      "curl http://127.0.0.1:5000/items \n",
      "Retrieving a Single Item\n",
      "To retrieve a single item by its ID, send a GET request to /items/<item_id>:\n",
      "curl http://127.0.0.1:5000/items/0 \n",
      "Updating an Item\n",
      "To update an existing item by its ID, send a PUT request to /items/<item_id> with a JSON body:\n",
      "curl -X PUT http://127.0.0.1:5000/items/0 -H \"Content-Type: \n",
      "application/json\" -d \"{\\\"name\\\":\\\"Updated Item\\\",\\\"description\\\":\\\"Updated \n",
      "description.\\\"}\"\n",
      "Deleting an Item\n",
      "To delete an item by its ID, send a DELETE request to /items/<item_id>:\n",
      "curl -X DELETE http://127.0.0.1:5000/items/0 \n",
      "Contributing\n",
      "Contributions to this project are welcome. Please fork the repository and submit a pull request with your\n",
      "improvements.\n",
      "License\n",
      "This project is licensed under the MIT License - see the LICENSE file for details.' metadata={'producer': 'Skia/PDF m80', 'creator': 'Chromium', 'creationdate': '2024-04-04T07:49:17+00:00', 'moddate': '2024-04-04T07:49:17+00:00', 'source': 'C:/Users/tiago/OneDrive/Documentos/Github/ai-agents/Tutorials/data/readme.pdf', 'total_pages': 2, 'page': 1, 'page_label': '2', 'start_index': 0}\n"
     ]
    }
   ],
   "source": [
    "results = await vector_store.asimilarity_search(\"How to retrieve an item?\")\n",
    "\n",
    "print(results[0])"
   ]
  },
  {
   "cell_type": "markdown",
   "id": "a867ed6e",
   "metadata": {},
   "source": [
    "Retornando a pontuação do retorno"
   ]
  },
  {
   "cell_type": "code",
   "execution_count": null,
   "id": "f4827214",
   "metadata": {},
   "outputs": [
    {
     "name": "stdout",
     "output_type": "stream",
     "text": [
      "Score: 0.7464487078053971\n",
      "\n",
      "page_content='readme.md 2024-04-04\n",
      "2 / 2\n",
      "Retrieving All Items\n",
      "To retrieve all items, send a GET request to /items:\n",
      "curl http://127.0.0.1:5000/items \n",
      "Retrieving a Single Item\n",
      "To retrieve a single item by its ID, send a GET request to /items/<item_id>:\n",
      "curl http://127.0.0.1:5000/items/0 \n",
      "Updating an Item\n",
      "To update an existing item by its ID, send a PUT request to /items/<item_id> with a JSON body:\n",
      "curl -X PUT http://127.0.0.1:5000/items/0 -H \"Content-Type: \n",
      "application/json\" -d \"{\\\"name\\\":\\\"Updated Item\\\",\\\"description\\\":\\\"Updated \n",
      "description.\\\"}\"\n",
      "Deleting an Item\n",
      "To delete an item by its ID, send a DELETE request to /items/<item_id>:\n",
      "curl -X DELETE http://127.0.0.1:5000/items/0 \n",
      "Contributing\n",
      "Contributions to this project are welcome. Please fork the repository and submit a pull request with your\n",
      "improvements.\n",
      "License\n",
      "This project is licensed under the MIT License - see the LICENSE file for details.' metadata={'producer': 'Skia/PDF m80', 'creator': 'Chromium', 'creationdate': '2024-04-04T07:49:17+00:00', 'moddate': '2024-04-04T07:49:17+00:00', 'source': 'C:/Users/tiago/OneDrive/Documentos/Github/ai-agents/Tutorials/data/readme.pdf', 'total_pages': 2, 'page': 1, 'page_label': '2', 'start_index': 0}\n"
     ]
    }
   ],
   "source": [
    "results = vector_store.similarity_search_with_score(\"How to retrieve an item?\")\n",
    "\n",
    "doc, score = results[0]\n",
    "\n",
    "print(f\"Score: {score}\\n\")\n",
    "print(doc)"
   ]
  },
  {
   "cell_type": "markdown",
   "id": "e0304e05",
   "metadata": {},
   "source": [
    "Retornando documentos com base na similaridade com uma consulta incorporada"
   ]
  },
  {
   "cell_type": "code",
   "execution_count": 24,
   "id": "d2fd792d",
   "metadata": {},
   "outputs": [
    {
     "name": "stdout",
     "output_type": "stream",
     "text": [
      "page_content='readme.md 2024-04-04\n",
      "2 / 2\n",
      "Retrieving All Items\n",
      "To retrieve all items, send a GET request to /items:\n",
      "curl http://127.0.0.1:5000/items \n",
      "Retrieving a Single Item\n",
      "To retrieve a single item by its ID, send a GET request to /items/<item_id>:\n",
      "curl http://127.0.0.1:5000/items/0 \n",
      "Updating an Item\n",
      "To update an existing item by its ID, send a PUT request to /items/<item_id> with a JSON body:\n",
      "curl -X PUT http://127.0.0.1:5000/items/0 -H \"Content-Type: \n",
      "application/json\" -d \"{\\\"name\\\":\\\"Updated Item\\\",\\\"description\\\":\\\"Updated \n",
      "description.\\\"}\"\n",
      "Deleting an Item\n",
      "To delete an item by its ID, send a DELETE request to /items/<item_id>:\n",
      "curl -X DELETE http://127.0.0.1:5000/items/0 \n",
      "Contributing\n",
      "Contributions to this project are welcome. Please fork the repository and submit a pull request with your\n",
      "improvements.\n",
      "License\n",
      "This project is licensed under the MIT License - see the LICENSE file for details.' metadata={'producer': 'Skia/PDF m80', 'creator': 'Chromium', 'creationdate': '2024-04-04T07:49:17+00:00', 'moddate': '2024-04-04T07:49:17+00:00', 'source': 'C:/Users/tiago/OneDrive/Documentos/Github/ai-agents/Tutorials/data/readme.pdf', 'total_pages': 2, 'page': 1, 'page_label': '2', 'start_index': 0}\n"
     ]
    }
   ],
   "source": [
    "embedding = embeddings.embed_query(\"How to retrieve an item?\")\n",
    "\n",
    "results = vector_store.similarity_search_by_vector(embedding)\n",
    "\n",
    "print(results[0])"
   ]
  },
  {
   "cell_type": "markdown",
   "id": "52a29b27",
   "metadata": {},
   "source": [
    "## Retrievers"
   ]
  },
  {
   "cell_type": "code",
   "execution_count": 25,
   "id": "f78a7de4",
   "metadata": {},
   "outputs": [
    {
     "data": {
      "text/plain": [
       "[[Document(id='4d58c374-2c10-406e-9f58-e96d2526fec0', metadata={'producer': 'Skia/PDF m80', 'creator': 'Chromium', 'creationdate': '2024-04-04T07:49:17+00:00', 'moddate': '2024-04-04T07:49:17+00:00', 'source': 'C:/Users/tiago/OneDrive/Documentos/Github/ai-agents/Tutorials/data/readme.pdf', 'total_pages': 2, 'page': 1, 'page_label': '2', 'start_index': 0}, page_content='readme.md 2024-04-04\\n2 / 2\\nRetrieving All Items\\nTo retrieve all items, send a GET request to /items:\\ncurl http://127.0.0.1:5000/items \\nRetrieving a Single Item\\nTo retrieve a single item by its ID, send a GET request to /items/<item_id>:\\ncurl http://127.0.0.1:5000/items/0 \\nUpdating an Item\\nTo update an existing item by its ID, send a PUT request to /items/<item_id> with a JSON body:\\ncurl -X PUT http://127.0.0.1:5000/items/0 -H \"Content-Type: \\napplication/json\" -d \"{\\\\\"name\\\\\":\\\\\"Updated Item\\\\\",\\\\\"description\\\\\":\\\\\"Updated \\ndescription.\\\\\"}\"\\nDeleting an Item\\nTo delete an item by its ID, send a DELETE request to /items/<item_id>:\\ncurl -X DELETE http://127.0.0.1:5000/items/0 \\nContributing\\nContributions to this project are welcome. Please fork the repository and submit a pull request with your\\nimprovements.\\nLicense\\nThis project is licensed under the MIT License - see the LICENSE file for details.')],\n",
       " [Document(id='4d58c374-2c10-406e-9f58-e96d2526fec0', metadata={'producer': 'Skia/PDF m80', 'creator': 'Chromium', 'creationdate': '2024-04-04T07:49:17+00:00', 'moddate': '2024-04-04T07:49:17+00:00', 'source': 'C:/Users/tiago/OneDrive/Documentos/Github/ai-agents/Tutorials/data/readme.pdf', 'total_pages': 2, 'page': 1, 'page_label': '2', 'start_index': 0}, page_content='readme.md 2024-04-04\\n2 / 2\\nRetrieving All Items\\nTo retrieve all items, send a GET request to /items:\\ncurl http://127.0.0.1:5000/items \\nRetrieving a Single Item\\nTo retrieve a single item by its ID, send a GET request to /items/<item_id>:\\ncurl http://127.0.0.1:5000/items/0 \\nUpdating an Item\\nTo update an existing item by its ID, send a PUT request to /items/<item_id> with a JSON body:\\ncurl -X PUT http://127.0.0.1:5000/items/0 -H \"Content-Type: \\napplication/json\" -d \"{\\\\\"name\\\\\":\\\\\"Updated Item\\\\\",\\\\\"description\\\\\":\\\\\"Updated \\ndescription.\\\\\"}\"\\nDeleting an Item\\nTo delete an item by its ID, send a DELETE request to /items/<item_id>:\\ncurl -X DELETE http://127.0.0.1:5000/items/0 \\nContributing\\nContributions to this project are welcome. Please fork the repository and submit a pull request with your\\nimprovements.\\nLicense\\nThis project is licensed under the MIT License - see the LICENSE file for details.')]]"
      ]
     },
     "execution_count": 25,
     "metadata": {},
     "output_type": "execute_result"
    }
   ],
   "source": [
    "from typing import List\n",
    "\n",
    "from langchain_core.documents import Document\n",
    "from langchain_core.runnables import chain\n",
    "\n",
    "\n",
    "@chain\n",
    "def retriever(query: str) -> List[Document]:\n",
    "    return vector_store.similarity_search(query, k=1)\n",
    "\n",
    "\n",
    "retriever.batch(\n",
    "    [\n",
    "        \"How to retrieve an item?\",\n",
    "        \"How to send an item?\",\n",
    "    ],\n",
    ")"
   ]
  }
 ],
 "metadata": {
  "kernelspec": {
   "display_name": "venv",
   "language": "python",
   "name": "python3"
  },
  "language_info": {
   "codemirror_mode": {
    "name": "ipython",
    "version": 3
   },
   "file_extension": ".py",
   "mimetype": "text/x-python",
   "name": "python",
   "nbconvert_exporter": "python",
   "pygments_lexer": "ipython3",
   "version": "3.11.0"
  }
 },
 "nbformat": 4,
 "nbformat_minor": 5
}
