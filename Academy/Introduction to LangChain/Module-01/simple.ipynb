{
 "cells": [
  {
   "cell_type": "markdown",
   "id": "8c699fce",
   "metadata": {},
   "source": [
    "# State"
   ]
  },
  {
   "cell_type": "code",
   "execution_count": null,
   "id": "c8cfde74",
   "metadata": {},
   "outputs": [],
   "source": [
    "from typing import TypedDict\n",
    "\n",
    "class State(TypedDict):\n",
    "    graph_state: str"
   ]
  },
  {
   "cell_type": "markdown",
   "id": "31324f48",
   "metadata": {},
   "source": [
    "# Nodes"
   ]
  },
  {
   "cell_type": "code",
   "execution_count": null,
   "id": "86658b3a",
   "metadata": {},
   "outputs": [],
   "source": [
    "def node_1(state: State) -> dict:\n",
    "    print(\"---Node 1---\")\n",
    "    return {\"graph_state\": state[\"graph_state\"] + \" I am \"}\n",
    "\n",
    "def node_2(state: State) -> dict:\n",
    "    print(\"---Node 2---\")\n",
    "    return {\"graph_state\": state[\"graph_state\"] + \"happy!\"}\n",
    "\n",
    "def node_3(state: State) -> dict:\n",
    "    print(\"---Node 3---\")\n",
    "    return {\"graph_state\": state[\"graph_state\"] + \"sad!\"}"
   ]
  },
  {
   "cell_type": "markdown",
   "id": "4c4a205f",
   "metadata": {},
   "source": [
    "# Edges"
   ]
  },
  {
   "cell_type": "code",
   "execution_count": null,
   "id": "edcc068e",
   "metadata": {},
   "outputs": [],
   "source": [
    "import random\n",
    "\n",
    "from typing import Literal\n",
    "\n",
    "def decide_mood(state: State) -> Literal[\"node_2\", \"node_3\"]:\n",
    "    user_input = state[\"graph_state\"]\n",
    "\n",
    "    if random.random() < 0.5:\n",
    "        return \"node_2\"\n",
    "    \n",
    "    return \"node_3\""
   ]
  },
  {
   "cell_type": "markdown",
   "id": "4f7094e4",
   "metadata": {},
   "source": [
    "# Graph Construction"
   ]
  },
  {
   "cell_type": "code",
   "execution_count": null,
   "id": "a23c4183",
   "metadata": {},
   "outputs": [],
   "source": [
    "from IPython.display import Image, display\n",
    "from langgraph.graph import StateGraph, START, END\n",
    "\n",
    "# Build graph\n",
    "builder = StateGraph(State)\n",
    "builder.add_node(\"node_1\", node_1)\n",
    "builder.add_node(\"node_2\", node_2)\n",
    "builder.add_node(\"node_3\", node_3)\n",
    "\n",
    "# Logic\n",
    "builder.add_edge(START, \"node_1\")\n",
    "builder.add_conditional_edges(\"node_1\", decide_mood)\n",
    "builder.add_edge(\"node_2\", END)\n",
    "builder.add_edge(\"node_3\", END)\n",
    "\n",
    "# Add\n",
    "graph = builder.compile()\n",
    "\n",
    "# View\n",
    "display(Image(graph.get_graph().draw_mermaid_png()))\n"
   ]
  },
  {
   "cell_type": "markdown",
   "id": "79ca11c6",
   "metadata": {},
   "source": [
    "# Graph Invocation"
   ]
  },
  {
   "cell_type": "code",
   "execution_count": null,
   "id": "c33a1547",
   "metadata": {},
   "outputs": [],
   "source": [
    "graph.invoke({\"graph_state\": \"Hi, this is Lance.\"})"
   ]
  },
  {
   "cell_type": "code",
   "execution_count": null,
   "id": "d2e3fd60",
   "metadata": {},
   "outputs": [],
   "source": []
  }
 ],
 "metadata": {
  "kernelspec": {
   "display_name": ".venv",
   "language": "python",
   "name": "python3"
  },
  "language_info": {
   "codemirror_mode": {
    "name": "ipython",
    "version": 3
   },
   "file_extension": ".py",
   "mimetype": "text/x-python",
   "name": "python",
   "nbconvert_exporter": "python",
   "pygments_lexer": "ipython3",
   "version": "3.11.13"
  }
 },
 "nbformat": 4,
 "nbformat_minor": 5
}
