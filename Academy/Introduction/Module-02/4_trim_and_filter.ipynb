{
 "cells": [
  {
   "cell_type": "markdown",
   "id": "ea3f67f5",
   "metadata": {},
   "source": [
    "# API Keys"
   ]
  },
  {
   "cell_type": "code",
   "execution_count": 6,
   "id": "20407e77",
   "metadata": {},
   "outputs": [
    {
     "data": {
      "text/plain": [
       "True"
      ]
     },
     "execution_count": 6,
     "metadata": {},
     "output_type": "execute_result"
    }
   ],
   "source": [
    "from dotenv import load_dotenv\n",
    "\n",
    "load_dotenv()"
   ]
  },
  {
   "cell_type": "markdown",
   "id": "3c64942c",
   "metadata": {},
   "source": [
    "# Messages as state"
   ]
  },
  {
   "cell_type": "code",
   "execution_count": 5,
   "id": "1ccf36be",
   "metadata": {},
   "outputs": [
    {
     "name": "stdout",
     "output_type": "stream",
     "text": [
      "==================================\u001b[1m Ai Message \u001b[0m==================================\n",
      "Name: Bot\n",
      "\n",
      "So you said you ware researching ocean mammals?\n",
      "================================\u001b[1m Human Message \u001b[0m=================================\n",
      "Name: Tiago\n",
      "\n",
      "Yes, I know about whales. But what others should I learn about?\n"
     ]
    }
   ],
   "source": [
    "from pprint import pprint\n",
    "from langchain_core.messages import AIMessage, HumanMessage\n",
    "\n",
    "messages = [AIMessage(\"So you said you ware researching ocean mammals?\", name=\"Bot\")]\n",
    "messages.append(HumanMessage(f\"Yes, I know about whales. But what others should I learn about?\", name=\"Tiago\"))\n",
    "\n",
    "for message in messages:\n",
    "    message.pretty_print()"
   ]
  },
  {
   "cell_type": "code",
   "execution_count": 7,
   "id": "2fb21a93",
   "metadata": {},
   "outputs": [
    {
     "data": {
      "text/plain": [
       "AIMessage(content='That\\'s a fantastic field to research! While whales (which include dolphins and porpoises, collectively known as cetaceans) are fascinating, there\\'s a whole world of other incredible ocean mammals out there.\\n\\nHere are the main groups you should definitely learn about:\\n\\n1.  **Pinnipeds (Seals, Sea Lions, and Walruses):**\\n    *   **General:** These are \"fin-footed\" mammals, highly adapted to aquatic life but still coming ashore to breed, rest, and molt. They\\'re found in diverse marine environments from polar to tropical waters.\\n    *   **True Seals (Phocidae):** These seals lack external ear flaps and move on land by wriggling their bodies. Examples include:\\n        *   **Harbor Seals:** Common along coastlines in the Northern Hemisphere.\\n        *   **Elephant Seals:** Known for their massive size (especially males with their trunk-like noses) and deep-diving abilities.\\n        *   **Leopard Seals:** Apex predators of the Antarctic, known for hunting penguins and other seals.\\n        *   **Monk Seals:** Critically endangered, found in warmer waters (Mediterranean, Hawaiian).\\n    *   **Eared Seals (Otariidae):** These seals have visible external ear flaps and can \"walk\" on their flippers, making them more agile on land. Examples include:\\n        *   **Sea Lions:** Like the famous California Sea Lion, known for their barking and playful behavior.\\n        *   **Fur Seals:** Have a dense undercoat of fur, valued historically for their pelts.\\n    *   **Walruses (Odobenidae):** Distinctive for their long tusks (present in both males and females), which they use for pulling themselves onto ice, defense, and foraging. They are found in Arctic waters.\\n\\n2.  **Sirenians (Manatees and Dugongs):**\\n    *   **General:** Often called \"sea cows,\" these are gentle, slow-moving, herbivorous mammals that inhabit coastal waters, rivers, and estuaries.\\n    *   **Manatees:** Three species (West Indian, Amazonian, African). They have paddle-like tails and are found in warmer Atlantic waters.\\n    *   **Dugongs:** Found in the Indo-Pacific region, they have a fluke-like tail similar to whales.\\n\\n3.  **Sea Otters (Mustelidae):**\\n    *   **General:** The smallest marine mammals, found along the Pacific coast of North America and parts of Asia.\\n    *   **Unique Facts:** They have the densest fur of any animal to keep warm, use tools (like rocks to crack open shellfish), and are a keystone species, meaning they play a critical role in maintaining the health of their ecosystem (e.g., by controlling sea urchin populations).\\n\\n4.  **Polar Bears (Ursidae):**\\n    *   **General:** While technically land mammals, polar bears are considered marine mammals because their lives are so intrinsically linked to the ocean, specifically the Arctic sea ice.\\n    *   **Unique Facts:** They are powerful swimmers, have a thick layer of blubber and dense fur for insulation, and primarily hunt seals from the ice. Their survival is directly threatened by climate change and the melting of their sea ice habitat.\\n\\nEach of these groups has unique adaptations, behaviors, and conservation challenges. Learning about them will give you a much broader and deeper understanding of marine mammal diversity!\\n\\nWhich of these sounds most interesting to dive into first?', additional_kwargs={}, response_metadata={'prompt_feedback': {'block_reason': 0, 'safety_ratings': []}, 'finish_reason': 'STOP', 'model_name': 'gemini-2.5-flash', 'safety_ratings': []}, id='run--0241015c-cc54-4aad-aa8e-ffbc3b61b036-0', usage_metadata={'input_tokens': 26, 'output_tokens': 1842, 'total_tokens': 1868, 'input_token_details': {'cache_read': 0}, 'output_token_details': {'reasoning': 1099}})"
      ]
     },
     "execution_count": 7,
     "metadata": {},
     "output_type": "execute_result"
    }
   ],
   "source": [
    "from langchain_google_genai import ChatGoogleGenerativeAI\n",
    "\n",
    "llm = ChatGoogleGenerativeAI(model=\"gemini-2.5-flash\")\n",
    "\n",
    "llm.invoke(messages)"
   ]
  },
  {
   "cell_type": "code",
   "execution_count": 8,
   "id": "cdd45511",
   "metadata": {},
   "outputs": [
    {
     "data": {
      "image/png": "[encoded data removed]",
      "text/plain": [
       "<IPython.core.display.Image object>"
      ]
     },
     "metadata": {},
     "output_type": "display_data"
    }
   ],
   "source": [
    "from IPython.display import Image, display\n",
    "from langgraph.graph import MessagesState\n",
    "from langgraph.graph import StateGraph, START, END\n",
    "\n",
    "def chat_model_node(state: MessagesState) -> MessagesState:\n",
    "    return {\"messages\": llm.invoke(state[\"messages\"])}\n",
    "\n",
    "# Build graph\n",
    "builder = StateGraph(MessagesState)\n",
    "builder.add_node(\"chat_model_node\", chat_model_node)\n",
    "\n",
    "# Logic\n",
    "builder.add_edge(START, \"chat_model_node\")\n",
    "builder.add_edge(\"chat_model_node\", END)\n",
    "\n",
    "# Add\n",
    "graph = builder.compile()\n",
    "\n",
    "# View\n",
    "display(Image(graph.get_graph().draw_mermaid_png()))"
   ]
  },
  {
   "cell_type": "code",
   "execution_count": 12,
   "id": "5702bbc1",
   "metadata": {},
   "outputs": [
    {
     "name": "stdout",
     "output_type": "stream",
     "text": [
      "==================================\u001b[1m Ai Message \u001b[0m==================================\n",
      "Name: Bot\n",
      "\n",
      "So you said you ware researching ocean mammals?\n",
      "================================\u001b[1m Human Message \u001b[0m=================================\n",
      "Name: Tiago\n",
      "\n",
      "Yes, I know about whales. But what others should I learn about?\n",
      "==================================\u001b[1m Ai Message \u001b[0m==================================\n",
      "\n",
      "That's an excellent field to be researching! Ocean mammals are incredibly diverse and fascinating. Since you already know about whales (which are part of the *cetacean* order), let's dive into some other amazing groups you should definitely learn about:\n",
      "\n",
      "1.  **Dolphins & Porpoises (also Cetaceans, but often discussed separately from \"whales\")**\n",
      "    *   **Dolphins:** These are smaller, often more agile and social cetaceans. There are many species!\n",
      "        *   **Bottlenose Dolphins:** The most common and well-known, often seen near coasts.\n",
      "        *   **Orcas (Killer Whales):** While called \"whales,\" they are actually the largest species of dolphin! Highly intelligent, apex predators with complex social structures.\n",
      "        *   **Spinner Dolphins, Common Dolphins, Spotted Dolphins:** Known for their acrobatic displays and large pods.\n",
      "        *   **River Dolphins:** Unique species that live in freshwater rivers, like the Amazon River Dolphin (Boto).\n",
      "    *   **Porpoises:** Generally smaller and chunkier than dolphins, with a more triangular dorsal fin and spade-shaped teeth. They tend to be shyer.\n",
      "        *   **Harbor Porpoise:** Common in coastal waters of the Northern Hemisphere.\n",
      "        *   **Vaquita:** The smallest and most critically endangered marine mammal, found only in the Gulf of California.\n",
      "\n",
      "2.  **Pinnipeds (Seals, Sea Lions, and Walruses)**\n",
      "    These are carnivorous marine mammals with flippers, adapted for both land and sea.\n",
      "\n",
      "    *   **Seals (True Seals / Earless Seals):**\n",
      "        *   Lack external ear flaps.\n",
      "        *   Cannot rotate their hind flippers forward, so they \"scoot\" on their bellies on land.\n",
      "        *   Examples: **Harbor Seal, Grey Seal, Elephant Seal** (known for their massive size and proboscis), **Leopard Seal** (an apex predator of the Antarctic).\n",
      "    *   **Sea Lions (Eared Seals):**\n",
      "        *   Have visible external ear flaps.\n",
      "        *   Can rotate their hind flippers forward, allowing them to \"walk\" on all fours on land.\n",
      "        *   Examples: **California Sea Lion** (often seen in marinas and coastal areas), **Steller Sea Lion**.\n",
      "    *   **Walruses:**\n",
      "        *   Distinctive long tusks (canines) used for foraging, hauling out of water, and defense.\n",
      "        *   Found in Arctic waters.\n",
      "        *   Have a unique bristly mustache.\n",
      "\n",
      "3.  **Sirenians (Manatees and Dugongs)**\n",
      "    Often called \"sea cows\" because they are slow-moving herbivores that graze on seagrass.\n",
      "\n",
      "    *   **Manatees:**\n",
      "        *   Paddle-shaped tail.\n",
      "        *   Found in warmer coastal waters of the Americas and Africa.\n",
      "        *   Examples: **West Indian Manatee, Amazonian Manatee, African Manatee.**\n",
      "    *   **Dugongs:**\n",
      "        *   Fluke-like tail (similar to a whale's).\n",
      "        *   Found in the Indo-Pacific region.\n",
      "\n",
      "4.  **Marine Fissipeds (Carnivores adapted to marine life)**\n",
      "\n",
      "    *   **Sea Otters:**\n",
      "        *   The smallest marine mammals.\n",
      "        *   Known for their incredibly dense fur, use of tools (like rocks to crack shells), and playful behavior.\n",
      "        *   Found in the North Pacific. They are a keystone species, helping to maintain kelp forest ecosystems.\n",
      "    *   **Polar Bears:**\n",
      "        *   While technically a bear, they are classified as marine mammals because their lives are so intrinsically linked to the sea ice, where they hunt seals.\n",
      "        *   Found in the Arctic.\n",
      "\n",
      "This list should give you a fantastic start! Each group has its own unique adaptations, behaviors, and conservation challenges. Which one sounds most interesting to dive into first?\n"
     ]
    }
   ],
   "source": [
    "output = graph.invoke({\"messages\": messages})\n",
    "\n",
    "for message in output[\"messages\"]:\n",
    "    message.pretty_print()"
   ]
  },
  {
   "cell_type": "markdown",
   "id": "0715b45b",
   "metadata": {},
   "source": [
    "# Reducer"
   ]
  },
  {
   "cell_type": "code",
   "execution_count": 19,
   "id": "49b467a3",
   "metadata": {},
   "outputs": [
    {
     "data": {
      "image/png": "[encoded data removed]",
      "text/plain": [
       "<IPython.core.display.Image object>"
      ]
     },
     "metadata": {},
     "output_type": "display_data"
    }
   ],
   "source": [
    "from langchain_core.messages import RemoveMessage\n",
    "\n",
    "# Nodes\n",
    "def filter_messages(state: MessagesState) -> MessagesState:\n",
    "    # MessagesState é um Annotated[list, add_messages]. Por isso, quando\n",
    "    # receber delete_messages irá remover (sobrescrever) as menssagens\n",
    "    # que possuem o mesmo id das menssagens em delete_messages.\n",
    "    delete_messages = [RemoveMessage(id=message.id) for message in state[\"messages\"][:-2]]\n",
    "    return {\"messages\": delete_messages}\n",
    "\n",
    "def chat_model_node(state: MessagesState) -> MessagesState:\n",
    "    return {\"messages\": llm.invoke(state[\"messages\"])}\n",
    "\n",
    "# Build graph\n",
    "builder = StateGraph(MessagesState)\n",
    "builder.add_node(\"chat_model_node\", chat_model_node)\n",
    "builder.add_node(\"filter_messages\", filter_messages)\n",
    "\n",
    "# Logic\n",
    "builder.add_edge(START, \"filter_messages\")\n",
    "builder.add_edge(\"filter_messages\", \"chat_model_node\")\n",
    "builder.add_edge(\"chat_model_node\", END)\n",
    "\n",
    "# Add\n",
    "graph = builder.compile()\n",
    "\n",
    "# View\n",
    "display(Image(graph.get_graph().draw_mermaid_png()))"
   ]
  },
  {
   "cell_type": "code",
   "execution_count": 20,
   "id": "2e4f658c",
   "metadata": {},
   "outputs": [
    {
     "name": "stdout",
     "output_type": "stream",
     "text": [
      "==================================\u001b[1m Ai Message \u001b[0m==================================\n",
      "Name: Bot\n",
      "\n",
      "So you said you ware researching ocean mammals?\n",
      "================================\u001b[1m Human Message \u001b[0m=================================\n",
      "\n",
      "Yes, I know whales. But what others should I learn about?\n",
      "==================================\u001b[1m Ai Message \u001b[0m==================================\n",
      "\n",
      "That's a great start! Whales are indeed fascinating, and they belong to a larger group of ocean mammals called **Cetaceans**, which also includes dolphins and porpoises.\n",
      "\n",
      "But there are several other major groups of ocean mammals that are equally amazing and diverse. Here's a breakdown of the main ones you should definitely learn about:\n",
      "\n",
      "1.  **Cetaceans (Whales, Dolphins, and Porpoises):**\n",
      "    *   **Whales:** You know these! They are fully aquatic, have blowholes, and are divided into two suborders:\n",
      "        *   **Baleen Whales:** Filter feeders with baleen plates instead of teeth (e.g., Humpback, Blue, Fin, Right, Gray Whales).\n",
      "        *   **Toothed Whales:** Predators with teeth (e.g., Sperm Whales, Belugas, Narwhals, and the next two groups...).\n",
      "    *   **Dolphins:** Often smaller, very intelligent, social, and known for their prominent dorsal fins and conical teeth. Fun fact: **Orcas (Killer Whales) are actually the largest species of dolphin!** Other examples include Bottlenose Dolphins, Spinner Dolphins, Common Dolphins.\n",
      "    *   **Porpoises:** Generally smaller and chunkier than dolphins, with spade-shaped teeth and a more triangular dorsal fin. They tend to be less social than dolphins. Examples: Harbor Porpoise, Dall's Porpoise.\n",
      "\n",
      "2.  **Pinnipeds (Seals, Sea Lions, and Walruses):**\n",
      "    *   These are \"fin-footed\" mammals that spend most of their lives in the water but come ashore (or onto ice) to breed, give birth, and rest. They have blubber for insulation.\n",
      "    *   **True Seals (Phocids):** No external ear flaps, shorter front flippers, and they move on land by wriggling their bodies. Examples: Harbor Seal, Harp Seal, Elephant Seal, Leopard Seal.\n",
      "    *   **Eared Seals (Otariids):** Have visible external ear flaps, longer front flippers that they can rotate under their bodies to \"walk\" on land, and are generally more vocal. This group includes:\n",
      "        *   **Sea Lions:** Known for their loud barks and ability to \"walk\" on their front flippers. Examples: California Sea Lion, Steller Sea Lion.\n",
      "        *   **Fur Seals:** Similar to sea lions but with denser fur.\n",
      "    *   **Walruses:** Large, distinctive pinnipeds with prominent tusks (both males and females have them) and thick, wrinkled skin. There's only one living species.\n",
      "\n",
      "3.  **Sirenians (Manatees and Dugongs):**\n",
      "    *   Often called \"sea cows,\" these are gentle, slow-moving, herbivorous mammals that live in warm, shallow coastal waters and rivers.\n",
      "    *   **Manatees:** Have a paddle-shaped tail. Found in the Atlantic Ocean, Caribbean Sea, and some parts of the Amazon.\n",
      "    *   **Dugongs:** Have a fluke-like tail, similar to a whale's, and a more downward-pointing snout. Found in the Indo-Pacific region.\n",
      "\n",
      "4.  **Mustelids (Sea Otters):**\n",
      "    *   **Sea Otters:** The smallest marine mammals, known for their incredibly dense fur (the densest of any animal) and their use of tools (like rocks to crack shellfish). They live in coastal areas of the North Pacific.\n",
      "\n",
      "5.  **Ursids (Polar Bears):**\n",
      "    *   **Polar Bears:** While technically land mammals, they are highly adapted to a marine environment, spending most of their lives on sea ice hunting seals. They are excellent swimmers and are considered marine mammals due to their reliance on the ocean for survival.\n",
      "\n",
      "So, beyond whales, you've got a whole world of dolphins, porpoises, seals, sea lions, walruses, manatees, dugongs, sea otters, and even polar bears to explore! Each group has unique adaptations and fascinating behaviors. Happy researching!\n"
     ]
    }
   ],
   "source": [
    "messages = [AIMessage(\"Hi.\", name=\"Bot\")]\n",
    "messages.append(HumanMessage(\"Hi.\", name=\"Tiago\"))\n",
    "messages.append(AIMessage(\"So you said you ware researching ocean mammals?\", name=\"Bot\"))\n",
    "messages.append(HumanMessage(\"Yes, I know whales. But what others should I learn about?\"))\n",
    "\n",
    "output = graph.invoke({\"messages\": messages})\n",
    "\n",
    "for message in output[\"messages\"]:\n",
    "    message.pretty_print()"
   ]
  },
  {
   "cell_type": "markdown",
   "id": "26af674a",
   "metadata": {},
   "source": [
    "# Trim"
   ]
  },
  {
   "cell_type": "code",
   "execution_count": 22,
   "id": "034b934e",
   "metadata": {},
   "outputs": [
    {
     "data": {
      "image/png": "[encoded data removed]",
      "text/plain": [
       "<IPython.core.display.Image object>"
      ]
     },
     "metadata": {},
     "output_type": "display_data"
    }
   ],
   "source": [
    "from langchain_core.messages import trim_messages\n",
    "\n",
    "# Node\n",
    "def chat_model_node(state: MessagesState) -> MessagesState:\n",
    "    messages = trim_messages(\n",
    "        state[\"messages\"],\n",
    "        max_tokens=100,\n",
    "        strategy=\"last\",\n",
    "        token_counter=llm,\n",
    "        allow_partial=True\n",
    "    )\n",
    "\n",
    "    return {\"messages\": llm.invoke(messages)}\n",
    "\n",
    "# Build graph\n",
    "builder = StateGraph(MessagesState)\n",
    "builder.add_node(\"chat_model\", chat_model_node)\n",
    "\n",
    "# Logic\n",
    "builder.add_edge(START, \"chat_model\")\n",
    "builder.add_edge(\"chat_model\", END)\n",
    "\n",
    "# Add\n",
    "graph = builder.compile()\n",
    "\n",
    "# View\n",
    "display(Image(graph.get_graph().draw_mermaid_png()))"
   ]
  },
  {
   "cell_type": "code",
   "execution_count": 23,
   "id": "f5c73978",
   "metadata": {},
   "outputs": [],
   "source": [
    "messages.append(output[\"messages\"][-1])\n",
    "messages.append(HumanMessage(f\"Tell me where Orcas live!\", name=\"Tiago\"))"
   ]
  },
  {
   "cell_type": "code",
   "execution_count": 27,
   "id": "856321b9",
   "metadata": {},
   "outputs": [
    {
     "data": {
      "text/plain": [
       "[HumanMessage(content='Tell me where Orcas live!', additional_kwargs={}, response_metadata={}, name='Tiago')]"
      ]
     },
     "execution_count": 27,
     "metadata": {},
     "output_type": "execute_result"
    }
   ],
   "source": [
    "trim_messages(\n",
    "        messages,\n",
    "        max_tokens=100,\n",
    "        strategy=\"last\",\n",
    "        token_counter=llm\n",
    "    )"
   ]
  },
  {
   "cell_type": "code",
   "execution_count": 28,
   "id": "e419c5cc",
   "metadata": {},
   "outputs": [
    {
     "name": "stdout",
     "output_type": "stream",
     "text": [
      "==================================\u001b[1m Ai Message \u001b[0m==================================\n",
      "Name: Bot\n",
      "\n",
      "Hi.\n",
      "================================\u001b[1m Human Message \u001b[0m=================================\n",
      "Name: Tiago\n",
      "\n",
      "Hi.\n",
      "==================================\u001b[1m Ai Message \u001b[0m==================================\n",
      "Name: Bot\n",
      "\n",
      "So you said you ware researching ocean mammals?\n",
      "================================\u001b[1m Human Message \u001b[0m=================================\n",
      "\n",
      "Yes, I know whales. But what others should I learn about?\n",
      "==================================\u001b[1m Ai Message \u001b[0m==================================\n",
      "\n",
      "That's a great start! Whales are indeed fascinating, and they belong to a larger group of ocean mammals called **Cetaceans**, which also includes dolphins and porpoises.\n",
      "\n",
      "But there are several other major groups of ocean mammals that are equally amazing and diverse. Here's a breakdown of the main ones you should definitely learn about:\n",
      "\n",
      "1.  **Cetaceans (Whales, Dolphins, and Porpoises):**\n",
      "    *   **Whales:** You know these! They are fully aquatic, have blowholes, and are divided into two suborders:\n",
      "        *   **Baleen Whales:** Filter feeders with baleen plates instead of teeth (e.g., Humpback, Blue, Fin, Right, Gray Whales).\n",
      "        *   **Toothed Whales:** Predators with teeth (e.g., Sperm Whales, Belugas, Narwhals, and the next two groups...).\n",
      "    *   **Dolphins:** Often smaller, very intelligent, social, and known for their prominent dorsal fins and conical teeth. Fun fact: **Orcas (Killer Whales) are actually the largest species of dolphin!** Other examples include Bottlenose Dolphins, Spinner Dolphins, Common Dolphins.\n",
      "    *   **Porpoises:** Generally smaller and chunkier than dolphins, with spade-shaped teeth and a more triangular dorsal fin. They tend to be less social than dolphins. Examples: Harbor Porpoise, Dall's Porpoise.\n",
      "\n",
      "2.  **Pinnipeds (Seals, Sea Lions, and Walruses):**\n",
      "    *   These are \"fin-footed\" mammals that spend most of their lives in the water but come ashore (or onto ice) to breed, give birth, and rest. They have blubber for insulation.\n",
      "    *   **True Seals (Phocids):** No external ear flaps, shorter front flippers, and they move on land by wriggling their bodies. Examples: Harbor Seal, Harp Seal, Elephant Seal, Leopard Seal.\n",
      "    *   **Eared Seals (Otariids):** Have visible external ear flaps, longer front flippers that they can rotate under their bodies to \"walk\" on land, and are generally more vocal. This group includes:\n",
      "        *   **Sea Lions:** Known for their loud barks and ability to \"walk\" on their front flippers. Examples: California Sea Lion, Steller Sea Lion.\n",
      "        *   **Fur Seals:** Similar to sea lions but with denser fur.\n",
      "    *   **Walruses:** Large, distinctive pinnipeds with prominent tusks (both males and females have them) and thick, wrinkled skin. There's only one living species.\n",
      "\n",
      "3.  **Sirenians (Manatees and Dugongs):**\n",
      "    *   Often called \"sea cows,\" these are gentle, slow-moving, herbivorous mammals that live in warm, shallow coastal waters and rivers.\n",
      "    *   **Manatees:** Have a paddle-shaped tail. Found in the Atlantic Ocean, Caribbean Sea, and some parts of the Amazon.\n",
      "    *   **Dugongs:** Have a fluke-like tail, similar to a whale's, and a more downward-pointing snout. Found in the Indo-Pacific region.\n",
      "\n",
      "4.  **Mustelids (Sea Otters):**\n",
      "    *   **Sea Otters:** The smallest marine mammals, known for their incredibly dense fur (the densest of any animal) and their use of tools (like rocks to crack shellfish). They live in coastal areas of the North Pacific.\n",
      "\n",
      "5.  **Ursids (Polar Bears):**\n",
      "    *   **Polar Bears:** While technically land mammals, they are highly adapted to a marine environment, spending most of their lives on sea ice hunting seals. They are excellent swimmers and are considered marine mammals due to their reliance on the ocean for survival.\n",
      "\n",
      "So, beyond whales, you've got a whole world of dolphins, porpoises, seals, sea lions, walruses, manatees, dugongs, sea otters, and even polar bears to explore! Each group has unique adaptations and fascinating behaviors. Happy researching!\n",
      "================================\u001b[1m Human Message \u001b[0m=================================\n",
      "Name: Tiago\n",
      "\n",
      "Tell me where Orcas live!\n",
      "==================================\u001b[1m Ai Message \u001b[0m==================================\n",
      "\n",
      "Orcas (killer whales) are incredibly adaptable and have a truly **global distribution**, meaning they can be found in **all oceans of the world!**\n",
      "\n",
      "Here's a breakdown:\n",
      "\n",
      "1.  **All Oceans:** From the cold, icy waters of the Arctic and Antarctic to the warm, tropical seas near the equator, orcas live everywhere.\n",
      "2.  **Both Hemispheres:** They are found in both the Northern and Southern Hemispheres.\n",
      "3.  **Coastal and Open Ocean:** While often seen closer to shore in productive areas where prey is abundant, they also venture far into the open ocean.\n",
      "4.  **Concentration Areas:** They are particularly abundant in:\n",
      "    *   **Polar Regions:** Especially around the Antarctic continent (where they hunt seals, penguins, and other whales) and in the Arctic waters (like around Norway, Iceland, Alaska, and Canada).\n",
      "    *   **Temperate Regions:** Highly common in the productive waters of the North Pacific (e.g., British Columbia, Washington State, Alaska, Japan, Russia) and the North Atlantic (e.g., Norway, Iceland, Greenland, Argentina's Patagonia coast).\n",
      "\n",
      "Their wide distribution is a testament to their intelligence, adaptability, and diverse diet, allowing them to thrive in vastly different marine environments.\n"
     ]
    }
   ],
   "source": [
    "output = graph.invoke({\"messages\": messages})\n",
    "\n",
    "for message in output[\"messages\"]:\n",
    "    message.pretty_print()"
   ]
  }
 ],
 "metadata": {
  "kernelspec": {
   "display_name": ".venv",
   "language": "python",
   "name": "python3"
  },
  "language_info": {
   "codemirror_mode": {
    "name": "ipython",
    "version": 3
   },
   "file_extension": ".py",
   "mimetype": "text/x-python",
   "name": "python",
   "nbconvert_exporter": "python",
   "pygments_lexer": "ipython3",
   "version": "3.11.13"
  }
 },
 "nbformat": 4,
 "nbformat_minor": 5
}
