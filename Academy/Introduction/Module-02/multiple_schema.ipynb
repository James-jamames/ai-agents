{
 "cells": [
  {
   "cell_type": "markdown",
   "id": "bc42f9cb",
   "metadata": {},
   "source": [
    "# API Keys"
   ]
  },
  {
   "cell_type": "code",
   "execution_count": null,
   "id": "0bb7b865",
   "metadata": {
    "vscode": {
     "languageId": "plaintext"
    }
   },
   "outputs": [],
   "source": [
    "from dotenv import load_dotenv\n",
    "\n",
    "load_dotenv()"
   ]
  },
  {
   "cell_type": "markdown",
   "id": "236428b5",
   "metadata": {},
   "source": [
    "# Algo"
   ]
  },
  {
   "cell_type": "markdown",
   "id": "9fcc5da7",
   "metadata": {},
   "source": [
    "# Algo 2"
   ]
  },
  {
   "cell_type": "markdown",
   "id": "acdd8ca8",
   "metadata": {},
   "source": [
    "# Algo 3"
   ]
  },
  {
   "cell_type": "markdown",
   "id": "88158781",
   "metadata": {},
   "source": []
  }
 ],
 "metadata": {
  "language_info": {
   "name": "python"
  }
 },
 "nbformat": 4,
 "nbformat_minor": 5
}
