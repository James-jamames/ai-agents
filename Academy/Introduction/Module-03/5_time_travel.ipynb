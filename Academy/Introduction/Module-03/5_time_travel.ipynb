{
 "cells": [
  {
   "cell_type": "markdown",
   "id": "f0b6e1ef",
   "metadata": {},
   "source": [
    "# API Keys"
   ]
  },
  {
   "cell_type": "code",
   "execution_count": 1,
   "id": "b13cb5e1",
   "metadata": {},
   "outputs": [
    {
     "data": {
      "text/plain": [
       "True"
      ]
     },
     "execution_count": 1,
     "metadata": {},
     "output_type": "execute_result"
    }
   ],
   "source": [
    "from dotenv import load_dotenv\n",
    "\n",
    "load_dotenv()"
   ]
  },
  {
   "cell_type": "markdown",
   "id": "fd687bde",
   "metadata": {},
   "source": [
    "# Time Travel"
   ]
  },
  {
   "cell_type": "code",
   "execution_count": 2,
   "id": "92afc4d1",
   "metadata": {},
   "outputs": [],
   "source": [
    "from langchain_google_genai import ChatGoogleGenerativeAI\n",
    "\n",
    "# Tools\n",
    "def multiply(a: int, b: int) -> int:\n",
    "    \"\"\"\n",
    "    Multiply a and b.\n",
    "\n",
    "    Args:\n",
    "        a: first int\n",
    "        b: second int\n",
    "    \"\"\"\n",
    "\n",
    "    return a * b\n",
    "\n",
    "def divide(a: int, b: int) -> float:\n",
    "    \"\"\"\n",
    "    Devide a and b.\n",
    "\n",
    "    Args:\n",
    "        a: first int\n",
    "        b: second int\n",
    "    \"\"\"\n",
    "\n",
    "    return a / b\n",
    "\n",
    "def sum(a: int, b: int) -> int:\n",
    "    \"\"\"\n",
    "    Sum a and b.\n",
    "\n",
    "    Args:\n",
    "        a: first int\n",
    "        b: second_int\n",
    "    \"\"\"\n",
    "\n",
    "    return a + b\n",
    "\n",
    "tools = [sum, divide, multiply]\n",
    "\n",
    "llm = ChatGoogleGenerativeAI(model=\"gemini-2.5-flash\")\n",
    "llm_with_tools = llm.bind_tools(tools=tools)"
   ]
  },
  {
   "cell_type": "code",
   "execution_count": 3,
   "id": "3cb7692f",
   "metadata": {},
   "outputs": [
    {
     "data": {
      "image/png": "[encoded data removed]",
      "text/plain": [
       "<IPython.core.display.Image object>"
      ]
     },
     "metadata": {},
     "output_type": "display_data"
    }
   ],
   "source": [
    "from IPython.display import Image, display\n",
    "\n",
    "from langchain_core.messages import AIMessage, HumanMessage, SystemMessage\n",
    "\n",
    "from langgraph.graph import MessagesState\n",
    "from langgraph.graph import StateGraph, START, END\n",
    "from langgraph.prebuilt import ToolNode, tools_condition\n",
    "from langgraph.checkpoint.memory import MemorySaver\n",
    "\n",
    "# System message\n",
    "system_message = SystemMessage(content=\"Your are a helpful assistant tasked with performing arithmatic on a set of inputs.\")\n",
    "\n",
    "# Nodes\n",
    "def call_model(state: MessagesState) -> MessagesState:\n",
    "    return {\"messages\": [llm_with_tools.invoke([system_message] + state[\"messages\"])]}\n",
    "\n",
    "# Graph\n",
    "builder = StateGraph(MessagesState)\n",
    "builder.add_node(\"call_model\", call_model)\n",
    "builder.add_node(\"tools\", ToolNode(tools=tools))\n",
    "\n",
    "# Logic\n",
    "builder.add_edge(START, \"call_model\")\n",
    "builder.add_conditional_edges(\"call_model\", tools_condition)\n",
    "builder.add_edge(\"tools\", \"call_model\")\n",
    "\n",
    "# Set up memory\n",
    "memory = MemorySaver()\n",
    "\n",
    "# Compile\n",
    "graph = builder.compile(checkpointer=memory)\n",
    "\n",
    "# View\n",
    "display(Image(graph.get_graph().draw_mermaid_png()))"
   ]
  },
  {
   "cell_type": "code",
   "execution_count": 4,
   "id": "23d1525a",
   "metadata": {},
   "outputs": [
    {
     "name": "stdout",
     "output_type": "stream",
     "text": [
      "================================\u001b[1m Human Message \u001b[0m=================================\n",
      "\n",
      "Multiply 2 and 3.\n",
      "==================================\u001b[1m Ai Message \u001b[0m==================================\n",
      "Tool Calls:\n",
      "  multiply (caf26d78-7ebc-4447-9221-429441ee50da)\n",
      " Call ID: caf26d78-7ebc-4447-9221-429441ee50da\n",
      "  Args:\n",
      "    a: 2.0\n",
      "    b: 3.0\n",
      "=================================\u001b[1m Tool Message \u001b[0m=================================\n",
      "Name: multiply\n",
      "\n",
      "6\n",
      "==================================\u001b[1m Ai Message \u001b[0m==================================\n",
      "\n",
      "The result of multiplying 2 and 3 is 6.\n"
     ]
    }
   ],
   "source": [
    "from random import random\n",
    "\n",
    "config = {\"configurable\": {\"thread_id\": random()}}\n",
    "\n",
    "input_messages = [HumanMessage(content=\"Multiply 2 and 3.\")]\n",
    "\n",
    "for event in graph.stream({\"messages\": input_messages}, config, stream_mode=\"values\"):\n",
    "    event[\"messages\"][-1].pretty_print()"
   ]
  },
  {
   "cell_type": "markdown",
   "id": "6bb7ffed",
   "metadata": {},
   "source": [
    "## Browsing History"
   ]
  },
  {
   "cell_type": "code",
   "execution_count": 5,
   "id": "e75efaa4",
   "metadata": {},
   "outputs": [
    {
     "name": "stdout",
     "output_type": "stream",
     "text": [
      "StateSnapshot(values={'messages': [HumanMessage(content='Multiply 2 and 3.', additional_kwargs={}, response_metadata={}, id='8edb807e-70c4-44ee-9952-342c00561053'), AIMessage(content='', additional_kwargs={'function_call': {'name': 'multiply', 'arguments': '{\"a\": 2.0, \"b\": 3.0}'}}, response_metadata={'prompt_feedback': {'block_reason': 0, 'safety_ratings': []}, 'finish_reason': 'STOP', 'model_name': 'gemini-2.5-flash', 'safety_ratings': []}, id='run--fc3edc16-ecde-49c7-971c-287023ca6a2b-0', tool_calls=[{'name': 'multiply', 'args': {'a': 2.0, 'b': 3.0}, 'id': 'caf26d78-7ebc-4447-9221-429441ee50da', 'type': 'tool_call'}], usage_metadata={'input_tokens': 171, 'output_tokens': 66, 'total_tokens': 237, 'input_token_details': {'cache_read': 0}, 'output_token_details': {'reasoning': 48}}), ToolMessage(content='6', name='multiply', id='de2b3196-00a8-4dbd-be4c-e17a2adbf1a9', tool_call_id='caf26d78-7ebc-4447-9221-429441ee50da'), AIMessage(content='The result of multiplying 2 and 3 is 6.', additional_kwargs={}, response_metadata={'prompt_feedback': {'block_reason': 0, 'safety_ratings': []}, 'finish_reason': 'STOP', 'model_name': 'gemini-2.5-flash', 'safety_ratings': []}, id='run--8c5e6096-638b-406e-bce2-0fbe16535726-0', usage_metadata={'input_tokens': 202, 'output_tokens': 13, 'total_tokens': 215, 'input_token_details': {'cache_read': 0}})]}, next=(), config={'configurable': {'thread_id': '0.12058398909580059', 'checkpoint_ns': '', 'checkpoint_id': '1f072ec7-219c-6542-8003-3aaf716ea243'}}, metadata={'source': 'loop', 'step': 3, 'parents': {}}, created_at='2025-08-06T17:40:30.062482+00:00', parent_config={'configurable': {'thread_id': '0.12058398909580059', 'checkpoint_ns': '', 'checkpoint_id': '1f072ec7-1bcb-6f3a-8002-89f3d31139cf'}}, tasks=(), interrupts=())\n"
     ]
    }
   ],
   "source": [
    "state = graph.get_state(config)\n",
    "print(state)"
   ]
  },
  {
   "cell_type": "code",
   "execution_count": 8,
   "id": "c435d890",
   "metadata": {},
   "outputs": [],
   "source": [
    "all_states = list(graph.get_state_history(config))"
   ]
  },
  {
   "cell_type": "code",
   "execution_count": 9,
   "id": "147183c3",
   "metadata": {},
   "outputs": [
    {
     "data": {
      "text/plain": [
       "5"
      ]
     },
     "execution_count": 9,
     "metadata": {},
     "output_type": "execute_result"
    }
   ],
   "source": [
    "len(all_states)"
   ]
  },
  {
   "cell_type": "code",
   "execution_count": null,
   "id": "e39252a3",
   "metadata": {},
   "outputs": [
    {
     "data": {
      "text/plain": [
       "StateSnapshot(values={'messages': []}, next=('__start__',), config={'configurable': {'thread_id': '0.12058398909580059', 'checkpoint_ns': '', 'checkpoint_id': '1f072ec7-1256-629b-bfff-4619ac73ea20'}}, metadata={'source': 'input', 'step': -1, 'parents': {}}, created_at='2025-08-06T17:40:28.460908+00:00', parent_config=None, tasks=(PregelTask(id='b0e3bcb3-251a-7049-5714-14c68d4a3d87', name='__start__', path=('__pregel_pull', '__start__'), error=None, interrupts=(), state=None, result={'messages': [HumanMessage(content='Multiply 2 and 3.', additional_kwargs={}, response_metadata={}, id='8edb807e-70c4-44ee-9952-342c00561053')]}),), interrupts=())"
      ]
     },
     "execution_count": 11,
     "metadata": {},
     "output_type": "execute_result"
    }
   ],
   "source": [
    "# First state\n",
    "all_states[-1]\n",
    "\n",
    "# Last state\n",
    "all_states[0]"
   ]
  },
  {
   "cell_type": "code",
   "execution_count": 12,
   "id": "8442d141",
   "metadata": {},
   "outputs": [],
   "source": [
    "to_replay = all_states[-2]"
   ]
  },
  {
   "cell_type": "code",
   "execution_count": 13,
   "id": "19658c56",
   "metadata": {},
   "outputs": [
    {
     "data": {
      "text/plain": [
       "{'messages': [HumanMessage(content='Multiply 2 and 3.', additional_kwargs={}, response_metadata={}, id='8edb807e-70c4-44ee-9952-342c00561053')]}"
      ]
     },
     "execution_count": 13,
     "metadata": {},
     "output_type": "execute_result"
    }
   ],
   "source": [
    "to_replay.values"
   ]
  },
  {
   "cell_type": "code",
   "execution_count": 14,
   "id": "7027e97d",
   "metadata": {},
   "outputs": [
    {
     "data": {
      "text/plain": [
       "('call_model',)"
      ]
     },
     "execution_count": 14,
     "metadata": {},
     "output_type": "execute_result"
    }
   ],
   "source": [
    "to_replay.next"
   ]
  },
  {
   "cell_type": "code",
   "execution_count": 15,
   "id": "e06069b8",
   "metadata": {},
   "outputs": [
    {
     "data": {
      "text/plain": [
       "{'configurable': {'thread_id': '0.12058398909580059',\n",
       "  'checkpoint_ns': '',\n",
       "  'checkpoint_id': '1f072ec7-1258-658e-8000-cf978c4d0cff'}}"
      ]
     },
     "execution_count": 15,
     "metadata": {},
     "output_type": "execute_result"
    }
   ],
   "source": [
    "to_replay.config"
   ]
  },
  {
   "cell_type": "markdown",
   "id": "8b63ed0d",
   "metadata": {},
   "source": [
    "## Forking"
   ]
  },
  {
   "cell_type": "code",
   "execution_count": 16,
   "id": "1df24442",
   "metadata": {},
   "outputs": [
    {
     "data": {
      "text/plain": [
       "[HumanMessage(content='Multiply 2 and 3.', additional_kwargs={}, response_metadata={}, id='8edb807e-70c4-44ee-9952-342c00561053')]"
      ]
     },
     "execution_count": 16,
     "metadata": {},
     "output_type": "execute_result"
    }
   ],
   "source": [
    "to_fork = all_states[-2]\n",
    "to_fork.values[\"messages\"]"
   ]
  },
  {
   "cell_type": "code",
   "execution_count": 17,
   "id": "01545970",
   "metadata": {},
   "outputs": [
    {
     "data": {
      "text/plain": [
       "{'configurable': {'thread_id': '0.12058398909580059',\n",
       "  'checkpoint_ns': '',\n",
       "  'checkpoint_id': '1f072ec7-1258-658e-8000-cf978c4d0cff'}}"
      ]
     },
     "execution_count": 17,
     "metadata": {},
     "output_type": "execute_result"
    }
   ],
   "source": [
    "to_fork.config"
   ]
  },
  {
   "cell_type": "code",
   "execution_count": 18,
   "id": "a2cfa8fd",
   "metadata": {},
   "outputs": [],
   "source": [
    "fork_config = graph.update_state(\n",
    "    to_fork.config,\n",
    "    {\"messages\": [HumanMessage(content=\"Multiply 5 and 3.\", id=to_fork.values[\"messages\"][0].id)]}\n",
    ")"
   ]
  },
  {
   "cell_type": "code",
   "execution_count": 19,
   "id": "bb38e305",
   "metadata": {},
   "outputs": [
    {
     "data": {
      "text/plain": [
       "{'configurable': {'thread_id': '0.12058398909580059',\n",
       "  'checkpoint_ns': '',\n",
       "  'checkpoint_id': '1f072f00-2b34-61bd-8001-fbca781520fe'}}"
      ]
     },
     "execution_count": 19,
     "metadata": {},
     "output_type": "execute_result"
    }
   ],
   "source": [
    "fork_config"
   ]
  },
  {
   "cell_type": "code",
   "execution_count": 22,
   "id": "1d948c48",
   "metadata": {},
   "outputs": [
    {
     "data": {
      "text/plain": [
       "6"
      ]
     },
     "execution_count": 22,
     "metadata": {},
     "output_type": "execute_result"
    }
   ],
   "source": [
    "all_states = list(graph.get_state_history(config))\n",
    "len(all_states)"
   ]
  },
  {
   "cell_type": "code",
   "execution_count": 23,
   "id": "ba9d5d26",
   "metadata": {},
   "outputs": [
    {
     "name": "stdout",
     "output_type": "stream",
     "text": [
      "================================\u001b[1m Human Message \u001b[0m=================================\n",
      "\n",
      "Multiply 5 and 3.\n",
      "==================================\u001b[1m Ai Message \u001b[0m==================================\n",
      "Tool Calls:\n",
      "  multiply (3ff23d67-b0c1-4efd-8f3f-caf86dbacb69)\n",
      " Call ID: 3ff23d67-b0c1-4efd-8f3f-caf86dbacb69\n",
      "  Args:\n",
      "    a: 5.0\n",
      "    b: 3.0\n",
      "=================================\u001b[1m Tool Message \u001b[0m=================================\n",
      "Name: multiply\n",
      "\n",
      "15\n",
      "==================================\u001b[1m Ai Message \u001b[0m==================================\n",
      "\n",
      "The result of multiplying 5 and 3 is 15.\n"
     ]
    }
   ],
   "source": [
    "for event in graph.stream(None, fork_config, stream_mode=\"values\"):\n",
    "    event[\"messages\"][-1].pretty_print()"
   ]
  },
  {
   "cell_type": "code",
   "execution_count": null,
   "id": "a3bff221",
   "metadata": {},
   "outputs": [],
   "source": []
  }
 ],
 "metadata": {
  "kernelspec": {
   "display_name": ".venv",
   "language": "python",
   "name": "python3"
  },
  "language_info": {
   "codemirror_mode": {
    "name": "ipython",
    "version": 3
   },
   "file_extension": ".py",
   "mimetype": "text/x-python",
   "name": "python",
   "nbconvert_exporter": "python",
   "pygments_lexer": "ipython3",
   "version": "3.11.13"
  }
 },
 "nbformat": 4,
 "nbformat_minor": 5
}
