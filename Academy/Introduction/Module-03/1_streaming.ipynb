{
 "cells": [
  {
   "cell_type": "markdown",
   "id": "022f602c",
   "metadata": {},
   "source": [
    "# API Keys"
   ]
  },
  {
   "cell_type": "code",
   "execution_count": 1,
   "id": "932b61a7",
   "metadata": {},
   "outputs": [
    {
     "data": {
      "text/plain": [
       "True"
      ]
     },
     "execution_count": 1,
     "metadata": {},
     "output_type": "execute_result"
    }
   ],
   "source": [
    "from dotenv import load_dotenv\n",
    "\n",
    "load_dotenv()"
   ]
  },
  {
   "cell_type": "markdown",
   "id": "fabc2b4f",
   "metadata": {},
   "source": [
    "# Streaming"
   ]
  },
  {
   "cell_type": "code",
   "execution_count": 4,
   "id": "fdf42c55",
   "metadata": {},
   "outputs": [
    {
     "data": {
      "image/png": "[encoded data removed]",
      "text/plain": [
       "<IPython.core.display.Image object>"
      ]
     },
     "metadata": {},
     "output_type": "display_data"
    }
   ],
   "source": [
    "from IPython.display import Image, display\n",
    "\n",
    "from typing import Literal\n",
    "\n",
    "from langgraph.graph import MessagesState\n",
    "from langgraph.graph import StateGraph, START, END\n",
    "from langgraph.checkpoint.memory import MemorySaver\n",
    "\n",
    "from langchain_core.messages import RemoveMessage\n",
    "from langchain_core.messages import SystemMessage, HumanMessage\n",
    "from langchain_google_genai import ChatGoogleGenerativeAI\n",
    "\n",
    "# LLM\n",
    "llm = ChatGoogleGenerativeAI(model=\"gemini-2.5-flash\")\n",
    "\n",
    "# State\n",
    "class State(MessagesState):\n",
    "    summary: str\n",
    "\n",
    "# Nodes\n",
    "def call_model(state: State) -> State:\n",
    "    summary = state.get(\"summary\", \"\")\n",
    "\n",
    "    if summary:\n",
    "        system_message = f\"Summary of conversation earlier: {summary}\"\n",
    "\n",
    "        messages = [SystemMessage(content=system_message)] + state[\"messages\"]\n",
    "    \n",
    "    else:\n",
    "        messages = state[\"messages\"]\n",
    "\n",
    "    return {\"messages\": llm.invoke(messages)}\n",
    "\n",
    "def summarize_conversation(state: State) -> State:\n",
    "    summary = state.get(\"summary\", \"\")\n",
    "\n",
    "    if summary:\n",
    "        summary_message = (\n",
    "            f\"This is summary of the onversation to date: {summary}\\n\\n\"\n",
    "            \"Extend the summary by taking into account the new messages above:\"\n",
    "        )\n",
    "    \n",
    "    else:\n",
    "        summary_message = \"Create a summary of the conversation above:\"\n",
    "\n",
    "    messages = state[\"messages\"] + [HumanMessage(content=summary_message)]\n",
    "    new_summary = llm.invoke(messages)\n",
    "\n",
    "    delete_messages = [RemoveMessage(id=message.id) for message in state[\"messages\"]]\n",
    "\n",
    "    return {\"summary\": new_summary, \"messages\": delete_messages}\n",
    "\n",
    "# Condicions\n",
    "def is_message_too_long(state: State) -> Literal[\"summarize_conversation\", \"__end__\"]:\n",
    "    messages = state[\"messages\"]\n",
    "\n",
    "    if len(messages) > 6:\n",
    "        return \"summarize_conversation\"\n",
    "    \n",
    "    return END\n",
    "\n",
    "# Build graph\n",
    "builder = StateGraph(State)\n",
    "builder.add_node(\"conversation\", call_model)\n",
    "builder.add_node(\"summarize_conversation\", summarize_conversation)\n",
    "\n",
    "# Logic\n",
    "builder.add_edge(START, \"conversation\")\n",
    "builder.add_conditional_edges(\"conversation\", is_message_too_long)\n",
    "builder.add_edge(\"summarize_conversation\", END)\n",
    "\n",
    "# Add\n",
    "memory = MemorySaver()\n",
    "graph = builder.compile(checkpointer=memory)\n",
    "\n",
    "# View\n",
    "display(Image(graph.get_graph().draw_mermaid_png()))"
   ]
  },
  {
   "cell_type": "markdown",
   "id": "d855c89e",
   "metadata": {},
   "source": [
    "## Streaming full state"
   ]
  },
  {
   "cell_type": "code",
   "execution_count": null,
   "id": "5dbaf7fc",
   "metadata": {},
   "outputs": [
    {
     "name": "stdout",
     "output_type": "stream",
     "text": [
      "{'conversation': {'messages': AIMessage(content='Hi Lance! Nice to meet you. How can I help you today?', additional_kwargs={}, response_metadata={'prompt_feedback': {'block_reason': 0, 'safety_ratings': []}, 'finish_reason': 'STOP', 'model_name': 'gemini-2.5-flash', 'safety_ratings': []}, id='run--fdb7648b-5ee3-43fd-81f0-b7456421a389-0', usage_metadata={'input_tokens': 8, 'output_tokens': 390, 'total_tokens': 398, 'input_token_details': {'cache_read': 0}, 'output_token_details': {'reasoning': 375}})}}\n"
     ]
    }
   ],
   "source": [
    "from random import random\n",
    "\n",
    "config = {\"configurable\": {\"thread_id\": random()}}\n",
    "\n",
    "input_messages = [HumanMessage(content=\"Hi! I'm Lance.\")]\n",
    "\n",
    "# Update state\n",
    "for chunk in graph.stream({\"messages\": input_messages}, config=config, stream_mode=\"updates\"):\n",
    "    print(chunk)"
   ]
  },
  {
   "cell_type": "code",
   "execution_count": null,
   "id": "e4f8f01b",
   "metadata": {},
   "outputs": [
    {
     "name": "stdout",
     "output_type": "stream",
     "text": [
      "==================================\u001b[1m Ai Message \u001b[0m==================================\n",
      "\n",
      "Hi Lance! Good to connect with you again. What can I help you with today?\n"
     ]
    }
   ],
   "source": [
    "for chunk in graph.stream({\"messages\": input_messages}, config=config, stream_mode=\"updates\"):\n",
    "    chunk['conversation']['messages'].pretty_print()"
   ]
  },
  {
   "cell_type": "code",
   "execution_count": null,
   "id": "11299b48",
   "metadata": {},
   "outputs": [
    {
     "name": "stdout",
     "output_type": "stream",
     "text": [
      "================================\u001b[1m Human Message \u001b[0m=================================\n",
      "\n",
      "Hi! I'm Lance.\n",
      "---------------------------------------New value---------------------------------------\n",
      "\n",
      "\n",
      "================================\u001b[1m Human Message \u001b[0m=================================\n",
      "\n",
      "Hi! I'm Lance.\n",
      "==================================\u001b[1m Ai Message \u001b[0m==================================\n",
      "\n",
      "Hi Lance! Nice to meet you.\n",
      "\n",
      "How can I help you today?\n",
      "---------------------------------------New value---------------------------------------\n",
      "\n",
      "\n"
     ]
    }
   ],
   "source": [
    "config = {\"configurable\": {\"thread_id\": random()}}\n",
    "\n",
    "# Full state\n",
    "for event in graph.stream({\"messages\": input_messages}, config=config, stream_mode=\"values\"):\n",
    "    for message in event['messages']:\n",
    "        message.pretty_print()\n",
    "    print(\"---\"*13 + \"New value\" + \"---\"*13 + \"\\n\\n\")"
   ]
  },
  {
   "cell_type": "markdown",
   "id": "e6cdb5fb",
   "metadata": {},
   "source": [
    "## Streaming Tokens"
   ]
  },
  {
   "cell_type": "code",
   "execution_count": 13,
   "id": "1a6c2076",
   "metadata": {},
   "outputs": [
    {
     "name": "stdout",
     "output_type": "stream",
     "text": [
      "Node: . Type: on_chain_start. Name: LangGraph\n",
      "Node: conversation. Type: on_chain_start. Name: conversation\n",
      "Node: conversation. Type: on_chat_model_start. Name: ChatGoogleGenerativeAI\n",
      "Node: conversation. Type: on_chat_model_stream. Name: ChatGoogleGenerativeAI\n",
      "Node: conversation. Type: on_chat_model_stream. Name: ChatGoogleGenerativeAI\n",
      "Node: conversation. Type: on_chat_model_stream. Name: ChatGoogleGenerativeAI\n",
      "Node: conversation. Type: on_chat_model_stream. Name: ChatGoogleGenerativeAI\n",
      "Node: conversation. Type: on_chat_model_stream. Name: ChatGoogleGenerativeAI\n",
      "Node: conversation. Type: on_chat_model_stream. Name: ChatGoogleGenerativeAI\n",
      "Node: conversation. Type: on_chat_model_stream. Name: ChatGoogleGenerativeAI\n",
      "Node: conversation. Type: on_chat_model_stream. Name: ChatGoogleGenerativeAI\n",
      "Node: conversation. Type: on_chat_model_stream. Name: ChatGoogleGenerativeAI\n",
      "Node: conversation. Type: on_chat_model_stream. Name: ChatGoogleGenerativeAI\n",
      "Node: conversation. Type: on_chat_model_stream. Name: ChatGoogleGenerativeAI\n",
      "Node: conversation. Type: on_chat_model_stream. Name: ChatGoogleGenerativeAI\n",
      "Node: conversation. Type: on_chat_model_stream. Name: ChatGoogleGenerativeAI\n",
      "Node: conversation. Type: on_chat_model_stream. Name: ChatGoogleGenerativeAI\n",
      "Node: conversation. Type: on_chat_model_stream. Name: ChatGoogleGenerativeAI\n",
      "Node: conversation. Type: on_chat_model_stream. Name: ChatGoogleGenerativeAI\n",
      "Node: conversation. Type: on_chat_model_stream. Name: ChatGoogleGenerativeAI\n",
      "Node: conversation. Type: on_chat_model_stream. Name: ChatGoogleGenerativeAI\n",
      "Node: conversation. Type: on_chat_model_stream. Name: ChatGoogleGenerativeAI\n",
      "Node: conversation. Type: on_chat_model_stream. Name: ChatGoogleGenerativeAI\n",
      "Node: conversation. Type: on_chat_model_stream. Name: ChatGoogleGenerativeAI\n",
      "Node: conversation. Type: on_chat_model_stream. Name: ChatGoogleGenerativeAI\n",
      "Node: conversation. Type: on_chat_model_stream. Name: ChatGoogleGenerativeAI\n",
      "Node: conversation. Type: on_chat_model_stream. Name: ChatGoogleGenerativeAI\n",
      "Node: conversation. Type: on_chat_model_end. Name: ChatGoogleGenerativeAI\n",
      "Node: conversation. Type: on_chain_start. Name: is_message_too_long\n",
      "Node: conversation. Type: on_chain_end. Name: is_message_too_long\n",
      "Node: conversation. Type: on_chain_stream. Name: conversation\n",
      "Node: conversation. Type: on_chain_end. Name: conversation\n",
      "Node: . Type: on_chain_stream. Name: LangGraph\n",
      "Node: . Type: on_chain_end. Name: LangGraph\n"
     ]
    }
   ],
   "source": [
    "config = {\"configurable\": {\"thread_id\": random()}}\n",
    "\n",
    "input_messages = [HumanMessage(content=\"Tell me about the 49ers NFL team.\")]\n",
    "\n",
    "async for event in graph.astream_events({\"messages\": input_messages}, config, version=\"v2\"):\n",
    "    print(f\"Node: {event['metadata'].get('langgraph_node', '')}. Type: {event['event']}. Name: {event['name']}\")"
   ]
  },
  {
   "cell_type": "code",
   "execution_count": 14,
   "id": "93c3f559",
   "metadata": {},
   "outputs": [
    {
     "name": "stdout",
     "output_type": "stream",
     "text": [
      "{'chunk': AIMessageChunk(content=\"The **San Francisco 49ers** are one of the most storied and successful franchises in National Football League (NFL) history. Here's a comprehensive\", additional_kwargs={}, response_metadata={'safety_ratings': []}, id='run--a62b9040-7bba-4ccf-89c8-462fa9a94653', usage_metadata={'input_tokens': 12, 'output_tokens': 1441, 'total_tokens': 1453, 'input_token_details': {'cache_read': 0}, 'output_token_details': {'reasoning': 1409}})}\n",
      "{'chunk': AIMessageChunk(content=' look at the team:\\n\\n**1. Name & Origin:**\\n*   **San Francisco 49ers:** The name \"49ers\" comes from the prospectors who arrived in Northern California during the 1849', additional_kwargs={}, response_metadata={'safety_ratings': []}, id='run--a62b9040-7bba-4ccf-89c8-462fa9a94653', usage_metadata={'output_token_details': {'reasoning': 0}, 'output_tokens': 48, 'total_tokens': 48, 'input_tokens': 0, 'input_token_details': {'cache_read': 0}})}\n",
      "{'chunk': AIMessageChunk(content=\" Gold Rush.\\n*   **Location:** While traditionally associated with San Francisco, their home stadium (Levi's Stadium) is located in Santa Clara, California, about 45 miles south of San Francisco.\\n\\n**2. Franchise\", additional_kwargs={}, response_metadata={'safety_ratings': []}, id='run--a62b9040-7bba-4ccf-89c8-462fa9a94653', usage_metadata={'output_token_details': {'reasoning': 0}, 'output_tokens': 48, 'total_tokens': 48, 'input_tokens': 0, 'input_token_details': {'cache_read': 0}})}\n",
      "{'chunk': AIMessageChunk(content=' History & Dynasties:**\\n\\n*   **Founding:** The 49ers were founded in 1946 as a charter member of the All-America Football Conference (AAFC). They joined the NFL in 195', additional_kwargs={}, response_metadata={'safety_ratings': []}, id='run--a62b9040-7bba-4ccf-89c8-462fa9a94653', usage_metadata={'output_token_details': {'reasoning': 0}, 'output_tokens': 50, 'total_tokens': 50, 'input_tokens': 0, 'input_token_details': {'cache_read': 0}})}\n",
      "{'chunk': AIMessageChunk(content='0 when the AAFC merged with the NFL.\\n*   **Early Years:** For many years, the 49ers were a competitive but not dominant team, often overshadowed by other NFL powerhouses.\\n*   **The Golden', additional_kwargs={}, response_metadata={'safety_ratings': []}, id='run--a62b9040-7bba-4ccf-89c8-462fa9a94653', usage_metadata={'output_token_details': {'reasoning': 0}, 'output_tokens': 48, 'total_tokens': 48, 'input_tokens': 0, 'input_token_details': {'cache_read': 0}})}\n",
      "{'chunk': AIMessageChunk(content=' Age (1980s & 1990s Dynasties):** This is the era that defined the 49ers as an elite franchise.\\n    *   **Bill Walsh & The West Coast Offense:** Under legendary', additional_kwargs={}, response_metadata={'safety_ratings': []}, id='run--a62b9040-7bba-4ccf-89c8-462fa9a94653', usage_metadata={'output_token_details': {'reasoning': 0}, 'output_tokens': 51, 'total_tokens': 51, 'input_tokens': 0, 'input_token_details': {'cache_read': 0}})}\n",
      "{'chunk': AIMessageChunk(content=' coach Bill Walsh, the 49ers revolutionized offensive football with the \"West Coast Offense,\" a system emphasizing short, high-percentage passes to control the game and set up bigger plays.\\n    *   **Joe Montana & Jerry Rice', additional_kwargs={}, response_metadata={'safety_ratings': []}, id='run--a62b9040-7bba-4ccf-89c8-462fa9a94653', usage_metadata={'output_token_details': {'reasoning': 0}, 'output_tokens': 49, 'total_tokens': 49, 'input_tokens': 0, 'input_token_details': {'cache_read': 0}})}\n",
      "{'chunk': AIMessageChunk(content=':** Led by Hall of Fame quarterback Joe Montana and arguably the greatest wide receiver of all time, Jerry Rice, the 49ers became a dominant force.\\n    *   **Five Super Bowl Wins:**\\n        *   **Super Bowl XVI (', additional_kwargs={}, response_metadata={'safety_ratings': []}, id='run--a62b9040-7bba-4ccf-89c8-462fa9a94653', usage_metadata={'output_token_details': {'reasoning': 0}, 'output_tokens': 51, 'total_tokens': 51, 'input_tokens': 0, 'input_token_details': {'cache_read': 0}})}\n",
      "{'chunk': AIMessageChunk(content='1982):** Beat the Cincinnati Bengals.\\n        *   **Super Bowl XIX (1985):** Beat the Miami Dolphins.\\n        *   **Super Bowl XXIII (1989):** Beat the Cincinnati', additional_kwargs={}, response_metadata={'safety_ratings': []}, id='run--a62b9040-7bba-4ccf-89c8-462fa9a94653', usage_metadata={'output_token_details': {'reasoning': 0}, 'output_tokens': 49, 'total_tokens': 49, 'input_tokens': 0, 'input_token_details': {'cache_read': 0}})}\n",
      "{'chunk': AIMessageChunk(content=\" Bengals.\\n        *   **Super Bowl XXIV (1990):** Beat the Denver Broncos.\\n        *   **Super Bowl XXIX (1995):** After Montana's departure, Steve Young took over at\", additional_kwargs={}, response_metadata={'safety_ratings': []}, id='run--a62b9040-7bba-4ccf-89c8-462fa9a94653', usage_metadata={'output_token_details': {'reasoning': 0}, 'output_tokens': 50, 'total_tokens': 50, 'input_tokens': 0, 'input_token_details': {'cache_read': 0}})}\n",
      "{'chunk': AIMessageChunk(content=\" quarterback and led the team to another Super Bowl victory, beating the San Diego Chargers. This cemented Young's own Hall of Fame legacy.\\n*   **Post-Dynasty Era (Late 1990s - 2000\", additional_kwargs={}, response_metadata={'safety_ratings': []}, id='run--a62b9040-7bba-4ccf-89c8-462fa9a94653', usage_metadata={'output_token_details': {'reasoning': 0}, 'output_tokens': 52, 'total_tokens': 52, 'input_tokens': 0, 'input_token_details': {'cache_read': 0}})}\n",
      "{'chunk': AIMessageChunk(content='s):** After the retirement of key players and coaches, the 49ers went through a period of decline, missing the playoffs for several years.\\n*   **Resurgence (2010s):** Under coach Jim Harbaugh,', additional_kwargs={}, response_metadata={'safety_ratings': []}, id='run--a62b9040-7bba-4ccf-89c8-462fa9a94653', usage_metadata={'output_token_details': {'reasoning': 0}, 'output_tokens': 51, 'total_tokens': 51, 'input_tokens': 0, 'input_token_details': {'cache_read': 0}})}\n",
      "{'chunk': AIMessageChunk(content=' the 49ers experienced a strong resurgence in the early 2010s, making it to three consecutive NFC Championship games and a Super Bowl appearance (Super Bowl XLVII, a loss to the Baltimore Ravens).\\n*   **Current Era', additional_kwargs={}, response_metadata={'safety_ratings': []}, id='run--a62b9040-7bba-4ccf-89c8-462fa9a94653', usage_metadata={'output_token_details': {'reasoning': 0}, 'output_tokens': 51, 'total_tokens': 51, 'input_tokens': 0, 'input_token_details': {'cache_read': 0}})}\n",
      "{'chunk': AIMessageChunk(content=' (Kyle Shanahan & John Lynch):** Since 2017, under Head Coach Kyle Shanahan and General Manager John Lynch, the 49ers have re-established themselves as a perennial contender. They reached Super Bowl LIV (', additional_kwargs={}, response_metadata={'safety_ratings': []}, id='run--a62b9040-7bba-4ccf-89c8-462fa9a94653', usage_metadata={'output_token_details': {'reasoning': 0}, 'output_tokens': 49, 'total_tokens': 49, 'input_tokens': 0, 'input_token_details': {'cache_read': 0}})}\n",
      "{'chunk': AIMessageChunk(content='losing to the Kansas City Chiefs) and Super Bowl LVIII (again losing to the Chiefs), as well as multiple NFC Championship appearances.\\n\\n**3. Championships & Achievements:**\\n*   **Super Bowl Wins:** 5 (T', additional_kwargs={}, response_metadata={'safety_ratings': []}, id='run--a62b9040-7bba-4ccf-89c8-462fa9a94653', usage_metadata={'output_token_details': {'reasoning': 0}, 'output_tokens': 48, 'total_tokens': 48, 'input_tokens': 0, 'input_token_details': {'cache_read': 0}})}\n",
      "{'chunk': AIMessageChunk(content='ied for 3rd most in NFL history)\\n*   **Super Bowl Appearances:** 8\\n*   **NFC Championships:** 8\\n*   **Division Titles:** Numerous (primarily in the NFC West)\\n\\n**4', additional_kwargs={}, response_metadata={'safety_ratings': []}, id='run--a62b9040-7bba-4ccf-89c8-462fa9a94653', usage_metadata={'output_token_details': {'reasoning': 0}, 'output_tokens': 49, 'total_tokens': 49, 'input_tokens': 0, 'input_token_details': {'cache_read': 0}})}\n",
      "{'chunk': AIMessageChunk(content='. Key Figures & Hall of Famers:**\\nThe 49ers boast an impressive list of Hall of Fame players and coaches, including:\\n*   **Players:** Joe Montana (QB), Jerry Rice (WR), Steve Young (QB),', additional_kwargs={}, response_metadata={'safety_ratings': []}, id='run--a62b9040-7bba-4ccf-89c8-462fa9a94653', usage_metadata={'output_token_details': {'reasoning': 0}, 'output_tokens': 50, 'total_tokens': 50, 'input_tokens': 0, 'input_token_details': {'cache_read': 0}})}\n",
      "{'chunk': AIMessageChunk(content=' Ronnie Lott (DB), Bill Walsh (Coach), Fred Dean (DE), Charles Haley (DE/LB), Hugh McElhenny (RB), John Henry Johnson (RB), Jimmy Johnson (DB), Bob St. Clair (OT), Y', additional_kwargs={}, response_metadata={'safety_ratings': []}, id='run--a62b9040-7bba-4ccf-89c8-462fa9a94653', usage_metadata={'output_token_details': {'reasoning': 0}, 'output_tokens': 50, 'total_tokens': 50, 'input_tokens': 0, 'input_token_details': {'cache_read': 0}})}\n",
      "{'chunk': AIMessageChunk(content='.A. Tittle (QB), Dave Wilcox (LB), Bryant Young (DT), Patrick Willis (LB), Frank Gore (RB).\\n*   **Coaches:** Bill Walsh, George Seifert.\\n\\n**5. Home Stadium', additional_kwargs={}, response_metadata={'safety_ratings': []}, id='run--a62b9040-7bba-4ccf-89c8-462fa9a94653', usage_metadata={'output_token_details': {'reasoning': 0}, 'output_tokens': 48, 'total_tokens': 48, 'input_tokens': 0, 'input_token_details': {'cache_read': 0}})}\n",
      "{'chunk': AIMessageChunk(content=\":**\\n*   **Levi's Stadium:** Opened in 2014, it's a state-of-the-art facility located in Santa Clara, California.\\n*   **Candlestick Park:** The team's\", additional_kwargs={}, response_metadata={'safety_ratings': []}, id='run--a62b9040-7bba-4ccf-89c8-462fa9a94653', usage_metadata={'output_token_details': {'reasoning': 0}, 'output_tokens': 50, 'total_tokens': 50, 'input_tokens': 0, 'input_token_details': {'cache_read': 0}})}\n",
      "{'chunk': AIMessageChunk(content=' iconic former home from 1971 to 2013.\\n\\n**6. Rivals:**\\n*   **Los Angeles Rams:** A fierce NFC West division rivalry with a long history.\\n*   **Seattle Seahawks:** Another', additional_kwargs={}, response_metadata={'safety_ratings': []}, id='run--a62b9040-7bba-4ccf-89c8-462fa9a94653', usage_metadata={'output_token_details': {'reasoning': 0}, 'output_tokens': 50, 'total_tokens': 50, 'input_tokens': 0, 'input_token_details': {'cache_read': 0}})}\n",
      "{'chunk': AIMessageChunk(content=' strong NFC West rival, especially prominent during the 2010s.\\n*   **Dallas Cowboys:** A historic playoff rivalry, particularly intense in the 1980s and 1990s.\\n*   **Green', additional_kwargs={}, response_metadata={'safety_ratings': []}, id='run--a62b9040-7bba-4ccf-89c8-462fa9a94653', usage_metadata={'output_token_details': {'reasoning': 0}, 'output_tokens': 51, 'total_tokens': 51, 'input_tokens': 0, 'input_token_details': {'cache_read': 0}})}\n",
      "{'chunk': AIMessageChunk(content=' Bay Packers:** Another team with a long playoff history against the 49ers.\\n\\n**7. Team Colors & Mascot:**\\n*   **Colors:** Scarlet (Red) and Gold.\\n*   **Mascot:** Sourd', additional_kwargs={}, response_metadata={'safety_ratings': []}, id='run--a62b9040-7bba-4ccf-89c8-462fa9a94653', usage_metadata={'output_token_details': {'reasoning': 0}, 'output_tokens': 49, 'total_tokens': 49, 'input_tokens': 0, 'input_token_details': {'cache_read': 0}})}\n",
      "{'chunk': AIMessageChunk(content='ough Sam.\\n\\n**8. Current State:**\\nThe 49ers are consistently one of the top teams in the NFL, known for their strong running game, innovative offensive schemes under Kyle Shanahan, and a dominant defense featuring stars', additional_kwargs={}, response_metadata={'safety_ratings': []}, id='run--a62b9040-7bba-4ccf-89c8-462fa9a94653', usage_metadata={'output_token_details': {'reasoning': 0}, 'output_tokens': 48, 'total_tokens': 48, 'input_tokens': 0, 'input_token_details': {'cache_read': 0}})}\n",
      "{'chunk': AIMessageChunk(content=' like Nick Bosa and Fred Warner. They have a deep and talented roster and are widely considered a perennial Super Bowl contender.\\n\\nIn summary, the San Francisco 49ers are a franchise steeped in tradition and success, known for their innovative play', additional_kwargs={}, response_metadata={'safety_ratings': []}, id='run--a62b9040-7bba-4ccf-89c8-462fa9a94653', usage_metadata={'output_token_details': {'reasoning': 0}, 'output_tokens': 50, 'total_tokens': 50, 'input_tokens': 0, 'input_token_details': {'cache_read': 0}})}\n",
      "{'chunk': AIMessageChunk(content=', legendary players, and a passionate fanbase.', additional_kwargs={}, response_metadata={'finish_reason': 'STOP', 'model_name': 'gemini-2.5-flash', 'safety_ratings': []}, id='run--a62b9040-7bba-4ccf-89c8-462fa9a94653', usage_metadata={'output_token_details': {'reasoning': 0}, 'output_tokens': 9, 'total_tokens': 9, 'input_tokens': 0, 'input_token_details': {'cache_read': 0}})}\n"
     ]
    }
   ],
   "source": [
    "config = {\"configurable\": {\"thread_id\": random()}}\n",
    "\n",
    "node_to_stream = 'conversation'\n",
    "\n",
    "async for event in graph.astream_events({\"messages\": input_messages}, config=config, version=\"v2\"):\n",
    "    if event['event'] == \"on_chat_model_stream\" and event['metadata'].get('langgraph_node', '') == node_to_stream:\n",
    "        print(event['data'])"
   ]
  },
  {
   "cell_type": "code",
   "execution_count": 17,
   "id": "67803b93",
   "metadata": {},
   "outputs": [
    {
     "name": "stdout",
     "output_type": "stream",
     "text": [
      "The San Francisco 49ers are one of the most storied and successful franchises in the National Football League (NFL). Here's\u001b[31m|\u001b[0m a breakdown of what makes them a legendary team:\n",
      "\n",
      "1.  **Name Origin:** The team is named after the prospectors who arrived in California during the 1849 Gold Rush.\n",
      "\n",
      "2.  **Location:** They\u001b[31m|\u001b[0m are based in the San Francisco Bay Area, with their home stadium, Levi's Stadium, located in Santa Clara, California.\n",
      "\n",
      "3.  **Team Colors & Mascot:** Their iconic colors are Scarlet Red and Gold. Their mascot is Sourdough\u001b[31m|\u001b[0m Sam.\n",
      "\n",
      "4.  **Super Bowl Success:**\n",
      "    *   The 49ers have won **5 Super Bowl championships** (XVI, XIX, XXIII, XXIV, XXIX).\n",
      "    *   They have appeared in **8 Super\u001b[31m|\u001b[0m Bowls** in total, losing in Super Bowls XLVII, LIV, and LVIII.\n",
      "    *   This places them among the elite franchises in NFL history in terms of championship victories.\n",
      "\n",
      "5.  **The Dynasty Era (19\u001b[31m|\u001b[0m80s & Early 1990s):**\n",
      "    *   The 49ers built one of the greatest dynasties in professional sports under Head Coach **Bill Walsh** and his \"West Coast Offense.\"\n",
      "    *\u001b[31m|\u001b[0m   This era was defined by precision passing, innovative play-calling, and a strong defense.\n",
      "    *   Key figures from this golden age include:\n",
      "        *   **Joe Montana:** Widely considered one of the greatest quarterbacks of all time,\u001b[31m|\u001b[0m known for his clutch performances (\"Joe Cool\").\n",
      "        *   **Jerry Rice:** Unanimously regarded as the greatest wide receiver in NFL history, holding numerous receiving records.\n",
      "        *   **Steve Young:** A Hall of Fame quarterback who\u001b[31m|\u001b[0m seamlessly took over from Montana and led the team to another Super Bowl win.\n",
      "        *   **Ronnie Lott:** A fierce and versatile Hall of Fame safety.\n",
      "        *   **Dwight Clark:** Immortalized by \"The Catch\"\u001b[31m|\u001b[0m in the 1981 NFC Championship game.\n",
      "    *   They won four Super Bowls with Montana (three with Walsh, one with George Seifert) and one with Young (under Seifert).\n",
      "\n",
      "6.  **Recent History & Current\u001b[31m|\u001b[0m Status:**\n",
      "    *   After the dynasty, the 49ers experienced some lean years but have periodically returned to contention.\n",
      "    *   Under Head Coach **Kyle Shanahan** (since 2017) and General Manager **John\u001b[31m|\u001b[0m Lynch**, the team has re-established itself as a perennial contender.\n",
      "    *   They are known for their physical, run-heavy offense, stout defense, and innovative play-calling.\n",
      "    *   They reached Super Bowl LIV (\u001b[31m|\u001b[0m2020) and Super Bowl LVIII (2024), losing both to the Kansas City Chiefs.\n",
      "    *   Their current roster features Pro Bowl talents like Nick Bosa (DE), Fred Warner (LB), Christian McC\u001b[31m|\u001b[0maffrey (RB), Deebo Samuel (WR), George Kittle (TE), and quarterback Brock Purdy.\n",
      "\n",
      "7.  **Fanbase & Rivalries:**\n",
      "    *   The 49ers boast a passionate and loyal fanbase,\u001b[31m|\u001b[0m known for their loud support and \"Faithful\" dedication.\n",
      "    *   They have historic rivalries with teams like the Dallas Cowboys (stemming from intense playoff battles in the 80s and 90s), the Los\u001b[31m|\u001b[0m Angeles Rams, and the Seattle Seahawks (divisional rivals).\n",
      "\n",
      "In summary, the San Francisco 49ers are a cornerstone franchise of the NFL, celebrated for their innovative approach to the game, their unparalleled dynasty of the 19\u001b[31m|\u001b[0m80s and 90s, and their continued presence as a top contender in the league.\u001b[31m|\u001b[0m"
     ]
    }
   ],
   "source": [
    "config = {\"configurable\": {\"thread_id\": random()}}\n",
    "\n",
    "async for event in graph.astream_events({\"messages\": input_messages}, config=config, version=\"v2\"):\n",
    "    if event[\"event\"] == \"on_chat_model_stream\" and event['metadata'].get(\"langgraph_node\", \"\") == node_to_stream:\n",
    "        print(event[\"data\"][\"chunk\"].content, end=\"\\033[31m|\\033[0m\")"
   ]
  }
 ],
 "metadata": {
  "kernelspec": {
   "display_name": ".venv",
   "language": "python",
   "name": "python3"
  },
  "language_info": {
   "codemirror_mode": {
    "name": "ipython",
    "version": 3
   },
   "file_extension": ".py",
   "mimetype": "text/x-python",
   "name": "python",
   "nbconvert_exporter": "python",
   "pygments_lexer": "ipython3",
   "version": "3.11.13"
  }
 },
 "nbformat": 4,
 "nbformat_minor": 5
}
